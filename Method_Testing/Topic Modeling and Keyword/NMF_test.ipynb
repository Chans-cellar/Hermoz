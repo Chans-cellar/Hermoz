{
 "cells": [
  {
   "cell_type": "code",
   "execution_count": 12,
   "id": "initial_id",
   "metadata": {
    "collapsed": true,
    "ExecuteTime": {
     "end_time": "2024-05-26T06:12:33.638576400Z",
     "start_time": "2024-05-26T06:12:33.634053800Z"
    }
   },
   "outputs": [],
   "source": [
    "import pandas as pd\n",
    "from sklearn.feature_extraction.text import TfidfVectorizer\n",
    "from sklearn.decomposition import NMF\n",
    "import numpy as np"
   ]
  },
  {
   "cell_type": "code",
   "execution_count": 13,
   "outputs": [],
   "source": [
    "df = pd.read_csv('E:\\\\studies\\\\USJ FOT\\\\lecture\\\\Research\\\\CodeBase\\\\CreatingDataset\\\\cleaned\\\\acroeconomic_classifier_dataset_4_hypercleaned.csv'\n",
    "                 )\n",
    "# Convert all sentences to strings and handle NaN values\n",
    "df['sentence'] = df['sentence'].astype(str).fillna('')"
   ],
   "metadata": {
    "collapsed": false,
    "ExecuteTime": {
     "end_time": "2024-05-26T06:12:34.248089200Z",
     "start_time": "2024-05-26T06:12:34.235179600Z"
    }
   },
   "id": "801d901ea9877772"
  },
  {
   "cell_type": "code",
   "execution_count": 8,
   "outputs": [],
   "source": [
    "# Create TF-IDF matrix\n",
    "vectorizer = TfidfVectorizer(stop_words='english')\n",
    "X = vectorizer.fit_transform(df['sentence'])"
   ],
   "metadata": {
    "collapsed": false,
    "ExecuteTime": {
     "end_time": "2024-05-26T06:09:50.431852600Z",
     "start_time": "2024-05-26T06:09:50.423208700Z"
    }
   },
   "id": "cdde7ce471b0862d"
  },
  {
   "cell_type": "code",
   "execution_count": 9,
   "outputs": [],
   "source": [
    "# Apply NMF for topic modeling\n",
    "nmf_model = NMF(n_components=7, random_state=42)\n",
    "W = nmf_model.fit_transform(X)\n",
    "H = nmf_model.components_"
   ],
   "metadata": {
    "collapsed": false,
    "ExecuteTime": {
     "end_time": "2024-05-26T06:09:51.416597Z",
     "start_time": "2024-05-26T06:09:51.320055300Z"
    }
   },
   "id": "63daca92f5e88e45"
  },
  {
   "cell_type": "code",
   "execution_count": 10,
   "outputs": [
    {
     "name": "stdout",
     "output_type": "stream",
     "text": [
      "Topic 0:\n",
      "year inflation base month ccpi cent record headline change ncpi\n",
      "Topic 1:\n",
      "cent gdp billion rs end nominal compare increase percentage growth\n",
      "Topic 2:\n",
      "debt imf restructuring eff arrangement programme sustainability support process envisage\n",
      "Topic 3:\n",
      "bank central sri lanka report annual cba source act independence\n",
      "Topic 4:\n",
      "policy rate monetary market board lending measure exchange condition easing\n",
      "Topic 5:\n",
      "price stability economic global inflation outlook financial level domestic economy\n",
      "Topic 6:\n",
      "sector government public reform fiscal need tax investment private improve\n"
     ]
    }
   ],
   "source": [
    "# Print topics\n",
    "terms = vectorizer.get_feature_names_out()\n",
    "for topic_idx, topic in enumerate(H):\n",
    "    print(f\"Topic {topic_idx}:\")\n",
    "    print(\" \".join([terms[i] for i in topic.argsort()[:-11:-1]]))"
   ],
   "metadata": {
    "collapsed": false,
    "ExecuteTime": {
     "end_time": "2024-05-26T06:09:52.449215400Z",
     "start_time": "2024-05-26T06:09:52.439246100Z"
    }
   },
   "id": "68a375921aa9e6f2"
  },
  {
   "cell_type": "code",
   "execution_count": 11,
   "outputs": [],
   "source": [
    "# Assign the most likely topic to each sentence\n",
    "df['nmf_topic'] = np.argmax(W, axis=1)\n",
    "\n",
    "# Save the updated dataframe to a new CSV file\n",
    "df.to_csv('E:\\\\studies\\\\USJ FOT\\\\lecture\\\\Research\\\\CodeBase\\\\CreatingDataset\\\\cleaned\\\\acroeconomic_classifier_dataset_4_hypercleaned_with_nmf_topics.csv', index=False)"
   ],
   "metadata": {
    "collapsed": false,
    "ExecuteTime": {
     "end_time": "2024-05-26T06:10:29.439444400Z",
     "start_time": "2024-05-26T06:10:29.423903Z"
    }
   },
   "id": "10dc645c41a1b3d5"
  },
  {
   "cell_type": "code",
   "execution_count": null,
   "outputs": [],
   "source": [],
   "metadata": {
    "collapsed": false
   },
   "id": "1fa70f039551a637"
  }
 ],
 "metadata": {
  "kernelspec": {
   "display_name": "Python 3",
   "language": "python",
   "name": "python3"
  },
  "language_info": {
   "codemirror_mode": {
    "name": "ipython",
    "version": 2
   },
   "file_extension": ".py",
   "mimetype": "text/x-python",
   "name": "python",
   "nbconvert_exporter": "python",
   "pygments_lexer": "ipython2",
   "version": "2.7.6"
  }
 },
 "nbformat": 4,
 "nbformat_minor": 5
}
