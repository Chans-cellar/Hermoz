{
 "cells": [
  {
   "cell_type": "code",
   "execution_count": 8,
   "id": "initial_id",
   "metadata": {
    "collapsed": true,
    "ExecuteTime": {
     "end_time": "2024-05-26T05:27:51.705678700Z",
     "start_time": "2024-05-26T05:27:51.696175700Z"
    }
   },
   "outputs": [],
   "source": [
    "from sklearn.feature_extraction.text import TfidfVectorizer\n",
    "from sklearn.decomposition import TruncatedSVD\n",
    "import pandas as pd\n",
    "import numpy as np"
   ]
  },
  {
   "cell_type": "code",
   "execution_count": 9,
   "outputs": [],
   "source": [
    "# Load the dataset\n",
    "df = pd.read_csv('E:\\\\studies\\\\USJ FOT\\\\lecture\\\\Research\\\\CodeBase\\\\CreatingDataset\\\\cleaned\\\\acroeconomic_classifier_dataset_4_hypercleaned.csv')\n",
    "\n",
    "# Convert all sentences to strings and handle NaN values\n",
    "df['sentence'] = df['sentence'].astype(str).fillna('')"
   ],
   "metadata": {
    "collapsed": false,
    "ExecuteTime": {
     "end_time": "2024-05-26T05:28:43.079303500Z",
     "start_time": "2024-05-26T05:28:43.063343600Z"
    }
   },
   "id": "801d901ea9877772"
  },
  {
   "cell_type": "code",
   "execution_count": 10,
   "outputs": [],
   "source": [
    "# Create TF-IDF matrix\n",
    "vectorizer = TfidfVectorizer(stop_words='english')\n",
    "X = vectorizer.fit_transform(df['sentence'])"
   ],
   "metadata": {
    "collapsed": false,
    "ExecuteTime": {
     "end_time": "2024-05-26T05:28:44.542922600Z",
     "start_time": "2024-05-26T05:28:44.534179700Z"
    }
   },
   "id": "cdde7ce471b0862d"
  },
  {
   "cell_type": "code",
   "execution_count": 12,
   "outputs": [],
   "source": [
    "# Apply SVD for LSA\n",
    "svd_model = TruncatedSVD(n_components=7, n_iter=100, random_state=42)\n",
    "lsa_matrix = svd_model.fit_transform(X)"
   ],
   "metadata": {
    "collapsed": false,
    "ExecuteTime": {
     "end_time": "2024-05-26T05:30:40.234304500Z",
     "start_time": "2024-05-26T05:30:40.077222200Z"
    }
   },
   "id": "63daca92f5e88e45"
  },
  {
   "cell_type": "code",
   "execution_count": 11,
   "outputs": [],
   "source": [
    "# Assign the most likely topic to each sentence\n",
    "df['lsa_label'] = np.argmax(lsa_matrix, axis=1)\n",
    "\n",
    "# Save the updated dataframe to a new CSV file\n",
    "df.to_csv('E:\\\\studies\\\\USJ FOT\\\\lecture\\\\Research\\\\CodeBase\\\\CreatingDataset\\\\cleaned\\\\acroeconomic_classifier_dataset_4_hypercleaned_with_lsa_labels.csv', index=False)\n"
   ],
   "metadata": {
    "collapsed": false,
    "ExecuteTime": {
     "end_time": "2024-05-26T05:30:23.956827200Z",
     "start_time": "2024-05-26T05:30:23.819294Z"
    }
   },
   "id": "5c2d6db240f9940d"
  },
  {
   "cell_type": "code",
   "execution_count": 13,
   "outputs": [
    {
     "name": "stdout",
     "output_type": "stream",
     "text": [
      "Topic 0: \n",
      "inflation bank cent year central policy price debt sri rate \n",
      "\n",
      "Topic 1: \n",
      "year cent gdp inflation record billion compare end ccpi base \n",
      "\n",
      "Topic 2: \n",
      "debt gdp billion cent restructuring rs imf government eff financing \n",
      "\n",
      "Topic 3: \n",
      "bank central lanka sri cent report annual gdp billion policy \n",
      "\n",
      "Topic 4: \n",
      "rate market policy monetary gdp exchange cent billion lending rs \n",
      "\n",
      "Topic 5: \n",
      "price stability economic financial global outlook increase energy gdp billion \n",
      "\n",
      "Topic 6: \n",
      "inflation debt billion disinflation price level rate global expect process \n"
     ]
    }
   ],
   "source": [
    "# Print topics\n",
    "terms = vectorizer.get_feature_names_out()\n",
    "for i, comp in enumerate(svd_model.components_):\n",
    "    terms_comp = zip(terms, comp)\n",
    "    sorted_terms = sorted(terms_comp, key=lambda x: x[1], reverse=True)[:10]\n",
    "    print(f\"Topic {i}: \")\n",
    "    for t in sorted_terms:\n",
    "        print(t[0], end=\" \")\n",
    "    print(\"\\n\")"
   ],
   "metadata": {
    "collapsed": false,
    "ExecuteTime": {
     "end_time": "2024-05-26T05:30:44.422220100Z",
     "start_time": "2024-05-26T05:30:44.402439700Z"
    }
   },
   "id": "68a375921aa9e6f2"
  },
  {
   "cell_type": "code",
   "execution_count": null,
   "outputs": [],
   "source": [],
   "metadata": {
    "collapsed": false
   },
   "id": "1fa70f039551a637"
  }
 ],
 "metadata": {
  "kernelspec": {
   "display_name": "Python 3",
   "language": "python",
   "name": "python3"
  },
  "language_info": {
   "codemirror_mode": {
    "name": "ipython",
    "version": 2
   },
   "file_extension": ".py",
   "mimetype": "text/x-python",
   "name": "python",
   "nbconvert_exporter": "python",
   "pygments_lexer": "ipython2",
   "version": "2.7.6"
  }
 },
 "nbformat": 4,
 "nbformat_minor": 5
}
