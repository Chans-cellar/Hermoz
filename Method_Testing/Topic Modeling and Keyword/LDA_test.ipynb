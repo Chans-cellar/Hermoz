{
 "cells": [
  {
   "cell_type": "code",
   "execution_count": 18,
   "id": "initial_id",
   "metadata": {
    "collapsed": true,
    "ExecuteTime": {
     "end_time": "2024-05-25T15:51:55.432079200Z",
     "start_time": "2024-05-25T15:51:53.595119300Z"
    }
   },
   "outputs": [],
   "source": [
    "import gensim\n",
    "from gensim import corpora\n",
    "import nltk\n",
    "from nltk.corpus import stopwords\n",
    "from nltk.tokenize import word_tokenize\n",
    "import pandas as pd\n"
   ]
  },
  {
   "cell_type": "code",
   "execution_count": 25,
   "outputs": [],
   "source": [
    "df = pd.read_csv('E:\\\\studies\\\\USJ FOT\\\\lecture\\\\Research\\\\CodeBase\\\\CreatingDataset\\\\cleaned\\\\acroeconomic_classifier_dataset_4_hypercleaned.csv'\n",
    "                 )\n",
    "# Convert all sentences to strings and handle NaN values\n",
    "df['sentence'] = df['sentence'].astype(str).fillna('')"
   ],
   "metadata": {
    "collapsed": false,
    "ExecuteTime": {
     "end_time": "2024-05-25T17:47:25.643056900Z",
     "start_time": "2024-05-25T17:47:25.630368300Z"
    }
   },
   "id": "801d901ea9877772"
  },
  {
   "cell_type": "code",
   "execution_count": 23,
   "outputs": [
    {
     "name": "stderr",
     "output_type": "stream",
     "text": [
      "[nltk_data] Downloading package stopwords to\n",
      "[nltk_data]     C:\\Users\\DELL\\AppData\\Roaming\\nltk_data...\n",
      "[nltk_data]   Package stopwords is already up-to-date!\n",
      "[nltk_data] Downloading package punkt to\n",
      "[nltk_data]     C:\\Users\\DELL\\AppData\\Roaming\\nltk_data...\n",
      "[nltk_data]   Package punkt is already up-to-date!\n"
     ]
    },
    {
     "data": {
      "text/plain": "True"
     },
     "execution_count": 23,
     "metadata": {},
     "output_type": "execute_result"
    }
   ],
   "source": [
    "# Download stopwords from NLTK\n",
    "nltk.download('stopwords')\n",
    "nltk.download('punkt')"
   ],
   "metadata": {
    "collapsed": false,
    "ExecuteTime": {
     "end_time": "2024-05-25T17:30:31.463176100Z",
     "start_time": "2024-05-25T17:30:30.825119700Z"
    }
   },
   "id": "cdde7ce471b0862d"
  },
  {
   "cell_type": "code",
   "execution_count": 26,
   "outputs": [],
   "source": [
    "# Preprocess sentences\n",
    "stop_words = set(stopwords.words('english'))\n",
    "texts = [[word for word in word_tokenize(sentence.lower()) if word.isalnum() and word not in stop_words] for sentence in df['sentence']]"
   ],
   "metadata": {
    "collapsed": false,
    "ExecuteTime": {
     "end_time": "2024-05-25T17:47:46.274127700Z",
     "start_time": "2024-05-25T17:47:46.188348800Z"
    }
   },
   "id": "63daca92f5e88e45"
  },
  {
   "cell_type": "code",
   "execution_count": 29,
   "outputs": [
    {
     "name": "stdout",
     "output_type": "stream",
     "text": [
      "Topic: 0 \n",
      "Words: 0.016*\"policy\" + 0.015*\"price\" + 0.011*\"government\" + 0.010*\"term\" + 0.010*\"expect\" + 0.010*\"measure\" + 0.010*\"export\" + 0.009*\"economy\" + 0.009*\"level\" + 0.009*\"year\"\n",
      "\n",
      "Topic: 1 \n",
      "Words: 0.019*\"policy\" + 0.017*\"inflation\" + 0.016*\"rate\" + 0.016*\"bank\" + 0.015*\"price\" + 0.014*\"central\" + 0.012*\"monetary\" + 0.011*\"market\" + 0.010*\"term\" + 0.010*\"government\"\n",
      "\n",
      "Topic: 2 \n",
      "Words: 0.015*\"sector\" + 0.015*\"foreign\" + 0.015*\"bank\" + 0.013*\"market\" + 0.011*\"credit\" + 0.010*\"central\" + 0.010*\"month\" + 0.010*\"government\" + 0.009*\"financial\" + 0.009*\"expect\"\n",
      "\n",
      "Topic: 3 \n",
      "Words: 0.047*\"debt\" + 0.017*\"imf\" + 0.016*\"restructuring\" + 0.015*\"economic\" + 0.012*\"eff\" + 0.012*\"sri\" + 0.012*\"programme\" + 0.012*\"government\" + 0.011*\"lanka\" + 0.011*\"support\"\n",
      "\n",
      "Topic: 4 \n",
      "Words: 0.018*\"sector\" + 0.013*\"inflation\" + 0.010*\"level\" + 0.010*\"government\" + 0.009*\"public\" + 0.009*\"reform\" + 0.008*\"policy\" + 0.008*\"sri\" + 0.007*\"lanka\" + 0.007*\"benefit\"\n",
      "\n",
      "Topic: 5 \n",
      "Words: 0.035*\"cent\" + 0.026*\"year\" + 0.018*\"sri\" + 0.016*\"bank\" + 0.016*\"rate\" + 0.016*\"gdp\" + 0.015*\"inflation\" + 0.015*\"central\" + 0.015*\"lanka\" + 0.012*\"base\"\n",
      "\n",
      "Topic: 6 \n",
      "Words: 0.023*\"economic\" + 0.020*\"financial\" + 0.017*\"stability\" + 0.012*\"economy\" + 0.010*\"system\" + 0.009*\"measure\" + 0.008*\"outlook\" + 0.008*\"fiscal\" + 0.008*\"price\" + 0.008*\"imf\"\n"
     ]
    }
   ],
   "source": [
    "# Create dictionary and corpus\n",
    "dictionary = corpora.Dictionary(texts)\n",
    "corpus = [dictionary.doc2bow(text) for text in texts]\n",
    "\n",
    "# Train LDA model\n",
    "lda_model = gensim.models.LdaModel(corpus, num_topics=7, id2word=dictionary, passes=15)\n",
    "\n",
    "# Print topics\n",
    "for idx, topic in lda_model.print_topics(-1):\n",
    "    print(f\"Topic: {idx} \\nWords: {topic}\\n\")\n"
   ],
   "metadata": {
    "collapsed": false,
    "ExecuteTime": {
     "end_time": "2024-05-25T17:57:55.878766100Z",
     "start_time": "2024-05-25T17:57:50.257633100Z"
    }
   },
   "id": "68a375921aa9e6f2"
  },
  {
   "cell_type": "code",
   "execution_count": 30,
   "outputs": [],
   "source": [
    "# Assign the most likely topic to each sentence\n",
    "def get_most_likely_topic(bow):\n",
    "    topic_probabilities = lda_model.get_document_topics(bow)\n",
    "    most_likely_topic = max(topic_probabilities, key=lambda x: x[1])[0]\n",
    "    return most_likely_topic\n",
    "\n",
    "df['lda_label'] = [get_most_likely_topic(dictionary.doc2bow(text)) for text in texts]\n",
    "\n",
    "# Save the updated dataframe to a new CSV file\n",
    "df.to_csv('E:\\\\studies\\\\USJ FOT\\\\lecture\\\\Research\\\\CodeBase\\\\CreatingDataset\\\\cleaned\\\\acroeconomic_classifier_dataset_4_hypercleaned_with_lda_labels.csv', index=False)"
   ],
   "metadata": {
    "collapsed": false,
    "ExecuteTime": {
     "end_time": "2024-05-25T17:57:58.329068600Z",
     "start_time": "2024-05-25T17:57:58.153873100Z"
    }
   },
   "id": "10dc645c41a1b3d5"
  },
  {
   "cell_type": "code",
   "execution_count": null,
   "outputs": [],
   "source": [],
   "metadata": {
    "collapsed": false
   },
   "id": "1fa70f039551a637"
  }
 ],
 "metadata": {
  "kernelspec": {
   "display_name": "Python 3",
   "language": "python",
   "name": "python3"
  },
  "language_info": {
   "codemirror_mode": {
    "name": "ipython",
    "version": 2
   },
   "file_extension": ".py",
   "mimetype": "text/x-python",
   "name": "python",
   "nbconvert_exporter": "python",
   "pygments_lexer": "ipython2",
   "version": "2.7.6"
  }
 },
 "nbformat": 4,
 "nbformat_minor": 5
}
