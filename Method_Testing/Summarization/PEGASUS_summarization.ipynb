{
 "cells": [
  {
   "cell_type": "code",
   "execution_count": 1,
   "outputs": [
    {
     "name": "stdout",
     "output_type": "stream",
     "text": [
      "Collecting rouge-score\n",
      "  Downloading rouge_score-0.1.2.tar.gz (17 kB)\n",
      "  Installing build dependencies: started\n",
      "  Installing build dependencies: finished with status 'done'\n",
      "  Getting requirements to build wheel: started\n",
      "  Getting requirements to build wheel: finished with status 'done'\n",
      "  Preparing metadata (pyproject.toml): started\n",
      "  Preparing metadata (pyproject.toml): finished with status 'done'\n",
      "Collecting absl-py (from rouge-score)\n",
      "  Downloading absl_py-2.1.0-py3-none-any.whl.metadata (2.3 kB)\n",
      "Requirement already satisfied: nltk in c:\\users\\dell\\appdata\\local\\programs\\python\\python311\\lib\\site-packages (from rouge-score) (3.8.1)\n",
      "Requirement already satisfied: numpy in c:\\users\\dell\\appdata\\local\\programs\\python\\python311\\lib\\site-packages (from rouge-score) (1.26.2)\n",
      "Requirement already satisfied: six>=1.14.0 in c:\\users\\dell\\appdata\\local\\programs\\python\\python311\\lib\\site-packages (from rouge-score) (1.16.0)\n",
      "Requirement already satisfied: click in c:\\users\\dell\\appdata\\local\\programs\\python\\python311\\lib\\site-packages (from nltk->rouge-score) (8.1.7)\n",
      "Requirement already satisfied: joblib in c:\\users\\dell\\appdata\\local\\programs\\python\\python311\\lib\\site-packages (from nltk->rouge-score) (1.3.2)\n",
      "Requirement already satisfied: regex>=2021.8.3 in c:\\users\\dell\\appdata\\local\\programs\\python\\python311\\lib\\site-packages (from nltk->rouge-score) (2023.12.25)\n",
      "Requirement already satisfied: tqdm in c:\\users\\dell\\appdata\\local\\programs\\python\\python311\\lib\\site-packages (from nltk->rouge-score) (4.66.1)\n",
      "Requirement already satisfied: colorama in c:\\users\\dell\\appdata\\local\\programs\\python\\python311\\lib\\site-packages (from click->nltk->rouge-score) (0.4.6)\n",
      "Downloading absl_py-2.1.0-py3-none-any.whl (133 kB)\n",
      "   ---------------------------------------- 0.0/133.7 kB ? eta -:--:--\n",
      "   --------- ------------------------------ 30.7/133.7 kB 1.3 MB/s eta 0:00:01\n",
      "   --------- ------------------------------ 30.7/133.7 kB 1.3 MB/s eta 0:00:01\n",
      "   -------------------- ------------------ 71.7/133.7 kB 563.7 kB/s eta 0:00:01\n",
      "   -------------------- ------------------ 71.7/133.7 kB 563.7 kB/s eta 0:00:01\n",
      "   -------------------------------- ----- 112.6/133.7 kB 504.4 kB/s eta 0:00:01\n",
      "   -------------------------------------- 133.7/133.7 kB 527.6 kB/s eta 0:00:00\n",
      "Building wheels for collected packages: rouge-score\n",
      "  Building wheel for rouge-score (pyproject.toml): started\n",
      "  Building wheel for rouge-score (pyproject.toml): finished with status 'done'\n",
      "  Created wheel for rouge-score: filename=rouge_score-0.1.2-py3-none-any.whl size=24972 sha256=bcfc58b61e3da89be6bf212e51ef756ed6d3be31e67d5548fa59ac5de487bbf0\n",
      "  Stored in directory: c:\\users\\dell\\appdata\\local\\pip\\cache\\wheels\\1e\\19\\43\\8a442dc83660ca25e163e1bd1f89919284ab0d0c1475475148\n",
      "Successfully built rouge-score\n",
      "Installing collected packages: absl-py, rouge-score\n",
      "Successfully installed absl-py-2.1.0 rouge-score-0.1.2\n",
      "Note: you may need to restart the kernel to use updated packages.\n"
     ]
    },
    {
     "name": "stderr",
     "output_type": "stream",
     "text": [
      "\n",
      "[notice] A new release of pip is available: 23.3.1 -> 24.0\n",
      "[notice] To update, run: python.exe -m pip install --upgrade pip\n"
     ]
    }
   ],
   "source": [
    "pip install rouge-score"
   ],
   "metadata": {
    "collapsed": false,
    "ExecuteTime": {
     "end_time": "2024-05-25T11:50:01.130027800Z",
     "start_time": "2024-05-25T11:49:47.604089500Z"
    }
   },
   "id": "7ce9add851956781"
  },
  {
   "cell_type": "code",
   "execution_count": 1,
   "outputs": [],
   "source": [
    "from transformers import PegasusForConditionalGeneration, PegasusTokenizer\n",
    "from rouge_score import rouge_scorer"
   ],
   "metadata": {
    "collapsed": false,
    "ExecuteTime": {
     "end_time": "2024-05-25T19:58:53.902439900Z",
     "start_time": "2024-05-25T19:58:47.357865700Z"
    }
   },
   "id": "initial_id"
  },
  {
   "cell_type": "code",
   "execution_count": 3,
   "outputs": [
    {
     "data": {
      "text/plain": "pytorch_model.bin:   0%|          | 0.00/2.28G [00:00<?, ?B/s]",
      "application/vnd.jupyter.widget-view+json": {
       "version_major": 2,
       "version_minor": 0,
       "model_id": "93e81901f6094178bb40d8ad3da8bc4c"
      }
     },
     "metadata": {},
     "output_type": "display_data"
    },
    {
     "name": "stderr",
     "output_type": "stream",
     "text": [
      "Some weights of PegasusForConditionalGeneration were not initialized from the model checkpoint at google/pegasus-xsum and are newly initialized: ['model.decoder.embed_positions.weight', 'model.encoder.embed_positions.weight']\n",
      "You should probably TRAIN this model on a down-stream task to be able to use it for predictions and inference.\n"
     ]
    },
    {
     "data": {
      "text/plain": "generation_config.json:   0%|          | 0.00/259 [00:00<?, ?B/s]",
      "application/vnd.jupyter.widget-view+json": {
       "version_major": 2,
       "version_minor": 0,
       "model_id": "7fb3fbbb127b422c8dbba8ed8ca9281a"
      }
     },
     "metadata": {},
     "output_type": "display_data"
    },
    {
     "data": {
      "text/plain": "tokenizer_config.json:   0%|          | 0.00/87.0 [00:00<?, ?B/s]",
      "application/vnd.jupyter.widget-view+json": {
       "version_major": 2,
       "version_minor": 0,
       "model_id": "21a01edee7264925bd9a95fc73d0bd04"
      }
     },
     "metadata": {},
     "output_type": "display_data"
    },
    {
     "data": {
      "text/plain": "spiece.model:   0%|          | 0.00/1.91M [00:00<?, ?B/s]",
      "application/vnd.jupyter.widget-view+json": {
       "version_major": 2,
       "version_minor": 0,
       "model_id": "ce49cc5da7d646b89c587c00e6ff5bf8"
      }
     },
     "metadata": {},
     "output_type": "display_data"
    },
    {
     "data": {
      "text/plain": "special_tokens_map.json:   0%|          | 0.00/65.0 [00:00<?, ?B/s]",
      "application/vnd.jupyter.widget-view+json": {
       "version_major": 2,
       "version_minor": 0,
       "model_id": "fcf203e0979b4260a29614f2168a2ae5"
      }
     },
     "metadata": {},
     "output_type": "display_data"
    },
    {
     "data": {
      "text/plain": "tokenizer.json:   0%|          | 0.00/3.52M [00:00<?, ?B/s]",
      "application/vnd.jupyter.widget-view+json": {
       "version_major": 2,
       "version_minor": 0,
       "model_id": "5cd366cbea1346869fcd2fb9b89b91c6"
      }
     },
     "metadata": {},
     "output_type": "display_data"
    }
   ],
   "source": [
    "# Load PEGASUS model and tokenizer\n",
    "model_name = \"google/pegasus-xsum\"\n",
    "model = PegasusForConditionalGeneration.from_pretrained(model_name)\n",
    "tokenizer = PegasusTokenizer.from_pretrained(model_name)"
   ],
   "metadata": {
    "collapsed": false,
    "ExecuteTime": {
     "end_time": "2024-05-26T01:10:33.365082900Z",
     "start_time": "2024-05-26T00:51:09.129674Z"
    }
   },
   "id": "7939654059a511b4"
  },
  {
   "cell_type": "code",
   "execution_count": 4,
   "outputs": [],
   "source": [
    "# Sample text\n",
    "text = \"\"\"\n",
    "moreover the central bank initiated measures to prioritise essential imports and restrict capital outflows through appropriate control measures while continuing the requirement for the mandatory sale of foreign exchange to the central bank by licensed banks based on the conversion of repatriated foreign exchange and commenced providing daily guidance on the exchange rate to curtail undue intraday volatilities.moreover the central bank continuous financial sector oversight and adoption of appropriate regulatory measures along with effective communication ensured financial system stability amidst severe socio economic distress.economic price and financial system stability outlook and policieseconomy.the credibility of the central bank is highly related to the independence of the bank.in this regard the envisaged enactment of the new central bank of sri lanka act will contribute immensely to improving the independence and credibility of the central bank which in turn will support the current disinflation episode and further strengthen the anchoring of inflation expectations.globalization and global disinflation federal reserve bank of kansas city conference on monetary policy and uncertainty adapting to changing economy.economic price and financial system stability outlook and policiesyears the surge in imported prices as well as increases in the cost of non food categories such as restaurants and hotels health and education etc.this continued reduction in core inflation was attributed to the strong policy measures taken by the central bank to address the build up of demand driven inflationary pressures and adverse inflation expectations.the government and the central bank initiated measures to limit foreign exchange outflows while taking initiatives to promote inflows. import demand was reduced notably reflecting the impact of significantly tightened monetary policy and subdued demand conditions.the central bank played major role in managing foreign exchange to ensure the supply of essential goods and services under extremely challenging circumstances during.figure balance of paymentssource central bank of sri lankatrade balance current account balance overall balance us billion\n",
    "\"\"\""
   ],
   "metadata": {
    "collapsed": false,
    "ExecuteTime": {
     "end_time": "2024-05-26T04:35:38.330101300Z",
     "start_time": "2024-05-26T04:35:38.305067600Z"
    }
   },
   "id": "cbde406f9e154e86"
  },
  {
   "cell_type": "code",
   "execution_count": 10,
   "outputs": [],
   "source": [
    "# Reference summary (for ROUGE evaluation)\n",
    "reference_summary = \"\"\"\n",
    "The central bank prioritized essential imports, restricted capital outflows, and mandated the sale of foreign exchange to ensure financial stability. Measures were taken to limit foreign exchange outflows and promote inflows. Tightened monetary policy reduced import demand. The envisaged enactment of the new Central Bank of Sri Lanka Act is expected to improve the bank's independence and credibility, supporting disinflation and inflation expectations anchoring.\n",
    "\"\"\""
   ],
   "metadata": {
    "collapsed": false,
    "ExecuteTime": {
     "end_time": "2024-05-26T04:43:25.260550600Z",
     "start_time": "2024-05-26T04:43:25.226783200Z"
    }
   },
   "id": "8dc32ca1deeae73e"
  },
  {
   "cell_type": "code",
   "execution_count": 6,
   "outputs": [],
   "source": [
    "# Preprocess text for PEGASUS\n",
    "inputs = tokenizer.encode(\"summarize: \" + text, return_tensors=\"pt\", max_length=1024, truncation=True)\n"
   ],
   "metadata": {
    "collapsed": false,
    "ExecuteTime": {
     "end_time": "2024-05-26T04:35:41.920185500Z",
     "start_time": "2024-05-26T04:35:41.916394900Z"
    }
   },
   "id": "a28747f230b3e3d0"
  },
  {
   "cell_type": "code",
   "execution_count": 8,
   "outputs": [
    {
     "name": "stdout",
     "output_type": "stream",
     "text": [
      "The central bank took a number of policy measures to address the build up of demand driven inflationary pressures and adverse inflation expectations in the first half of the year and continued to do so in the second half of the year to support economic growth and financial system stability.\n"
     ]
    }
   ],
   "source": [
    "# Generate summary\n",
    "summary_ids = model.generate(inputs, num_beams=4, min_length=50, max_length=100, early_stopping=True)\n",
    "summary = tokenizer.decode(summary_ids[0], skip_special_tokens=True)\n",
    "print(summary)"
   ],
   "metadata": {
    "collapsed": false,
    "ExecuteTime": {
     "end_time": "2024-05-26T04:37:10.368989600Z",
     "start_time": "2024-05-26T04:37:02.318017500Z"
    }
   },
   "id": "40d2b77e79144af3"
  },
  {
   "cell_type": "code",
   "execution_count": 11,
   "outputs": [
    {
     "name": "stdout",
     "output_type": "stream",
     "text": [
      "\n",
      "ROUGE Scores:\n",
      "ROUGE-1: Score(precision=0.48, recall=0.36923076923076925, fmeasure=0.4173913043478261)\n",
      "ROUGE-2: Score(precision=0.08163265306122448, recall=0.0625, fmeasure=0.07079646017699115)\n",
      "ROUGE-L: Score(precision=0.28, recall=0.2153846153846154, fmeasure=0.24347826086956526)\n"
     ]
    }
   ],
   "source": [
    "# Calculate ROUGE score\n",
    "scorer = rouge_scorer.RougeScorer(['rouge1', 'rouge2', 'rougeL'], use_stemmer=True)\n",
    "scores = scorer.score(reference_summary, summary)\n",
    "\n",
    "print(\"\\nROUGE Scores:\")\n",
    "print(f\"ROUGE-1: {scores['rouge1']}\")\n",
    "print(f\"ROUGE-2: {scores['rouge2']}\")\n",
    "print(f\"ROUGE-L: {scores['rougeL']}\")"
   ],
   "metadata": {
    "collapsed": false,
    "ExecuteTime": {
     "end_time": "2024-05-26T04:43:29.142079600Z",
     "start_time": "2024-05-26T04:43:29.131758900Z"
    }
   },
   "id": "e7ef2822296d3a3e"
  },
  {
   "cell_type": "code",
   "execution_count": null,
   "outputs": [],
   "source": [],
   "metadata": {
    "collapsed": false
   },
   "id": "1b80aa2fef93e5ea"
  }
 ],
 "metadata": {
  "kernelspec": {
   "display_name": "Python 3",
   "language": "python",
   "name": "python3"
  },
  "language_info": {
   "codemirror_mode": {
    "name": "ipython",
    "version": 2
   },
   "file_extension": ".py",
   "mimetype": "text/x-python",
   "name": "python",
   "nbconvert_exporter": "python",
   "pygments_lexer": "ipython2",
   "version": "2.7.6"
  }
 },
 "nbformat": 4,
 "nbformat_minor": 5
}
