{
 "cells": [
  {
   "cell_type": "code",
   "execution_count": 1,
   "outputs": [
    {
     "name": "stdout",
     "output_type": "stream",
     "text": [
      "Collecting rouge-score\n",
      "  Downloading rouge_score-0.1.2.tar.gz (17 kB)\n",
      "  Installing build dependencies: started\n",
      "  Installing build dependencies: finished with status 'done'\n",
      "  Getting requirements to build wheel: started\n",
      "  Getting requirements to build wheel: finished with status 'done'\n",
      "  Preparing metadata (pyproject.toml): started\n",
      "  Preparing metadata (pyproject.toml): finished with status 'done'\n",
      "Collecting absl-py (from rouge-score)\n",
      "  Downloading absl_py-2.1.0-py3-none-any.whl.metadata (2.3 kB)\n",
      "Requirement already satisfied: nltk in c:\\users\\dell\\appdata\\local\\programs\\python\\python311\\lib\\site-packages (from rouge-score) (3.8.1)\n",
      "Requirement already satisfied: numpy in c:\\users\\dell\\appdata\\local\\programs\\python\\python311\\lib\\site-packages (from rouge-score) (1.26.2)\n",
      "Requirement already satisfied: six>=1.14.0 in c:\\users\\dell\\appdata\\local\\programs\\python\\python311\\lib\\site-packages (from rouge-score) (1.16.0)\n",
      "Requirement already satisfied: click in c:\\users\\dell\\appdata\\local\\programs\\python\\python311\\lib\\site-packages (from nltk->rouge-score) (8.1.7)\n",
      "Requirement already satisfied: joblib in c:\\users\\dell\\appdata\\local\\programs\\python\\python311\\lib\\site-packages (from nltk->rouge-score) (1.3.2)\n",
      "Requirement already satisfied: regex>=2021.8.3 in c:\\users\\dell\\appdata\\local\\programs\\python\\python311\\lib\\site-packages (from nltk->rouge-score) (2023.12.25)\n",
      "Requirement already satisfied: tqdm in c:\\users\\dell\\appdata\\local\\programs\\python\\python311\\lib\\site-packages (from nltk->rouge-score) (4.66.1)\n",
      "Requirement already satisfied: colorama in c:\\users\\dell\\appdata\\local\\programs\\python\\python311\\lib\\site-packages (from click->nltk->rouge-score) (0.4.6)\n",
      "Downloading absl_py-2.1.0-py3-none-any.whl (133 kB)\n",
      "   ---------------------------------------- 0.0/133.7 kB ? eta -:--:--\n",
      "   --------- ------------------------------ 30.7/133.7 kB 1.3 MB/s eta 0:00:01\n",
      "   --------- ------------------------------ 30.7/133.7 kB 1.3 MB/s eta 0:00:01\n",
      "   -------------------- ------------------ 71.7/133.7 kB 563.7 kB/s eta 0:00:01\n",
      "   -------------------- ------------------ 71.7/133.7 kB 563.7 kB/s eta 0:00:01\n",
      "   -------------------------------- ----- 112.6/133.7 kB 504.4 kB/s eta 0:00:01\n",
      "   -------------------------------------- 133.7/133.7 kB 527.6 kB/s eta 0:00:00\n",
      "Building wheels for collected packages: rouge-score\n",
      "  Building wheel for rouge-score (pyproject.toml): started\n",
      "  Building wheel for rouge-score (pyproject.toml): finished with status 'done'\n",
      "  Created wheel for rouge-score: filename=rouge_score-0.1.2-py3-none-any.whl size=24972 sha256=bcfc58b61e3da89be6bf212e51ef756ed6d3be31e67d5548fa59ac5de487bbf0\n",
      "  Stored in directory: c:\\users\\dell\\appdata\\local\\pip\\cache\\wheels\\1e\\19\\43\\8a442dc83660ca25e163e1bd1f89919284ab0d0c1475475148\n",
      "Successfully built rouge-score\n",
      "Installing collected packages: absl-py, rouge-score\n",
      "Successfully installed absl-py-2.1.0 rouge-score-0.1.2\n",
      "Note: you may need to restart the kernel to use updated packages.\n"
     ]
    },
    {
     "name": "stderr",
     "output_type": "stream",
     "text": [
      "\n",
      "[notice] A new release of pip is available: 23.3.1 -> 24.0\n",
      "[notice] To update, run: python.exe -m pip install --upgrade pip\n"
     ]
    }
   ],
   "source": [
    "pip install rouge-score"
   ],
   "metadata": {
    "collapsed": false,
    "ExecuteTime": {
     "end_time": "2024-05-25T11:50:01.130027800Z",
     "start_time": "2024-05-25T11:49:47.604089500Z"
    }
   },
   "id": "7ce9add851956781"
  },
  {
   "cell_type": "code",
   "execution_count": 3,
   "outputs": [],
   "source": [
    "from transformers import T5Tokenizer, T5ForConditionalGeneration\n",
    "from rouge_score import rouge_scorer"
   ],
   "metadata": {
    "collapsed": false,
    "ExecuteTime": {
     "end_time": "2024-05-25T11:51:28.283486800Z",
     "start_time": "2024-05-25T11:51:26.091576500Z"
    }
   },
   "id": "initial_id"
  },
  {
   "cell_type": "code",
   "execution_count": 4,
   "outputs": [
    {
     "name": "stderr",
     "output_type": "stream",
     "text": [
      "You are using the default legacy behaviour of the <class 'transformers.models.t5.tokenization_t5.T5Tokenizer'>. This is expected, and simply means that the `legacy` (previous) behavior will be used so nothing changes for you. If you want to use the new behaviour, set `legacy=False`. This should only be set if you understand what it means, and thoroughly read the reason why this was added as explained in https://github.com/huggingface/transformers/pull/24565\n",
      "Special tokens have been added in the vocabulary, make sure the associated word embeddings are fine-tuned or trained.\n"
     ]
    }
   ],
   "source": [
    "# Load T5 model and tokenizer\n",
    "model_name = \"t5-small\"\n",
    "model = T5ForConditionalGeneration.from_pretrained(model_name)\n",
    "tokenizer = T5Tokenizer.from_pretrained(model_name)"
   ],
   "metadata": {
    "collapsed": false,
    "ExecuteTime": {
     "end_time": "2024-05-25T11:51:40.603766100Z",
     "start_time": "2024-05-25T11:51:38.096771700Z"
    }
   },
   "id": "7939654059a511b4"
  },
  {
   "cell_type": "code",
   "execution_count": 5,
   "outputs": [],
   "source": [
    "# Sample text\n",
    "text = \"\"\"\n",
    "moreover the central bank initiated measures to prioritise essential imports and restrict capital outflows through appropriate control measures while continuing the requirement for the mandatory sale of foreign exchange to the central bank by licensed banks based on the conversion of repatriated foreign exchange and commenced providing daily guidance on the exchange rate to curtail undue intraday volatilities.moreover the central bank continuous financial sector oversight and adoption of appropriate regulatory measures along with effective communication ensured financial system stability amidst severe socio economic distress.economic price and financial system stability outlook and policieseconomy.the credibility of the central bank is highly related to the independence of the bank.in this regard the envisaged enactment of the new central bank of sri lanka act will contribute immensely to improving the independence and credibility of the central bank which in turn will support the current disinflation episode and further strengthen the anchoring of inflation expectations.globalization and global disinflation federal reserve bank of kansas city conference on monetary policy and uncertainty adapting to changing economy.economic price and financial system stability outlook and policiesyears the surge in imported prices as well as increases in the cost of non food categories such as restaurants and hotels health and education etc.this continued reduction in core inflation was attributed to the strong policy measures taken by the central bank to address the build up of demand driven inflationary pressures and adverse inflation expectations.the government and the central bank initiated measures to limit foreign exchange outflows while taking initiatives to promote inflows. import demand was reduced notably reflecting the impact of significantly tightened monetary policy and subdued demand conditions.the central bank played major role in managing foreign exchange to ensure the supply of essential goods and services under extremely challenging circumstances during.figure balance of paymentssource central bank of sri lankatrade balance current account balance overall balance us billion\n",
    "\"\"\""
   ],
   "metadata": {
    "collapsed": false,
    "ExecuteTime": {
     "end_time": "2024-05-25T11:52:24.385739200Z",
     "start_time": "2024-05-25T11:52:24.377647400Z"
    }
   },
   "id": "cbde406f9e154e86"
  },
  {
   "cell_type": "code",
   "execution_count": 1,
   "outputs": [],
   "source": [
    "# Reference summary (for ROUGE evaluation)\n",
    "reference_summary = \"\"\"\n",
    "The central bank of Sri Lanka has implemented measures to prioritize imports and restrict capital outflows, requiring licensed banks to sell foreign exchange to the bank. They have also provided daily guidance on exchange rates to reduce intraday volatility. The bank's credibility is crucial, and the enactment of the new Central Bank of Sri Lanka Act will improve its independence and credibility. The central bank has played a significant role in managing foreign exchange to ensure the supply of essential goods and services during challenging economic conditions.\n",
    "\"\"\""
   ],
   "metadata": {
    "collapsed": false,
    "ExecuteTime": {
     "end_time": "2024-05-26T04:42:43.092983700Z",
     "start_time": "2024-05-26T04:42:43.089802600Z"
    }
   },
   "id": "8dc32ca1deeae73e"
  },
  {
   "cell_type": "code",
   "execution_count": 14,
   "outputs": [],
   "source": [
    "# Preprocess text for T5\n",
    "preprocessed_text = \"summarize: \" + text\n",
    "tokenized_text = tokenizer.encode(preprocessed_text, return_tensors=\"pt\", max_length=512, truncation=True)"
   ],
   "metadata": {
    "collapsed": false,
    "ExecuteTime": {
     "end_time": "2024-05-25T11:55:21.579897900Z",
     "start_time": "2024-05-25T11:55:21.572757500Z"
    }
   },
   "id": "a28747f230b3e3d0"
  },
  {
   "cell_type": "code",
   "execution_count": 15,
   "outputs": [
    {
     "name": "stdout",
     "output_type": "stream",
     "text": [
      "Generated Summary:\n",
      "the central bank initiated measures to prioritise essential imports and restrict capital outflows through appropriate control measures. the government and the central bank initiated measures to limit foreign exchange outflows while taking initiatives to promote inflows.\n"
     ]
    }
   ],
   "source": [
    "# Generate summary\n",
    "summary_ids = model.generate(tokenized_text, num_beams=4, min_length=50, max_length=100, early_stopping=True)\n",
    "summary = tokenizer.decode(summary_ids[0], skip_special_tokens=True)\n",
    "print(\"Generated Summary:\")\n",
    "print(summary)"
   ],
   "metadata": {
    "collapsed": false,
    "ExecuteTime": {
     "end_time": "2024-05-25T11:55:24.916674Z",
     "start_time": "2024-05-25T11:55:22.422598900Z"
    }
   },
   "id": "40d2b77e79144af3"
  },
  {
   "cell_type": "code",
   "execution_count": 2,
   "outputs": [
    {
     "ename": "NameError",
     "evalue": "name 'rouge_scorer' is not defined",
     "output_type": "error",
     "traceback": [
      "\u001B[1;31m---------------------------------------------------------------------------\u001B[0m",
      "\u001B[1;31mNameError\u001B[0m                                 Traceback (most recent call last)",
      "Cell \u001B[1;32mIn[2], line 2\u001B[0m\n\u001B[0;32m      1\u001B[0m \u001B[38;5;66;03m# Calculate ROUGE score\u001B[39;00m\n\u001B[1;32m----> 2\u001B[0m scorer \u001B[38;5;241m=\u001B[39m \u001B[43mrouge_scorer\u001B[49m\u001B[38;5;241m.\u001B[39mRougeScorer([\u001B[38;5;124m'\u001B[39m\u001B[38;5;124mrouge1\u001B[39m\u001B[38;5;124m'\u001B[39m, \u001B[38;5;124m'\u001B[39m\u001B[38;5;124mrouge2\u001B[39m\u001B[38;5;124m'\u001B[39m, \u001B[38;5;124m'\u001B[39m\u001B[38;5;124mrougeL\u001B[39m\u001B[38;5;124m'\u001B[39m], use_stemmer\u001B[38;5;241m=\u001B[39m\u001B[38;5;28;01mTrue\u001B[39;00m)\n\u001B[0;32m      3\u001B[0m scores \u001B[38;5;241m=\u001B[39m scorer\u001B[38;5;241m.\u001B[39mscore(reference_summary, summary)\n\u001B[0;32m      5\u001B[0m \u001B[38;5;28mprint\u001B[39m(\u001B[38;5;124m\"\u001B[39m\u001B[38;5;130;01m\\n\u001B[39;00m\u001B[38;5;124mROUGE Scores:\u001B[39m\u001B[38;5;124m\"\u001B[39m)\n",
      "\u001B[1;31mNameError\u001B[0m: name 'rouge_scorer' is not defined"
     ]
    }
   ],
   "source": [
    "# Calculate ROUGE score\n",
    "scorer = rouge_scorer.RougeScorer(['rouge1', 'rouge2', 'rougeL'], use_stemmer=True)\n",
    "scores = scorer.score(reference_summary, summary)\n",
    "\n",
    "print(\"\\nROUGE Scores:\")\n",
    "print(f\"ROUGE-1: {scores['rouge1']}\")\n",
    "print(f\"ROUGE-2: {scores['rouge2']}\")\n",
    "print(f\"ROUGE-L: {scores['rougeL']}\")"
   ],
   "metadata": {
    "collapsed": false,
    "ExecuteTime": {
     "end_time": "2024-05-26T04:43:05.442732300Z",
     "start_time": "2024-05-26T04:43:05.216615300Z"
    }
   },
   "id": "e7ef2822296d3a3e"
  },
  {
   "cell_type": "code",
   "execution_count": null,
   "outputs": [],
   "source": [],
   "metadata": {
    "collapsed": false
   },
   "id": "1b80aa2fef93e5ea"
  }
 ],
 "metadata": {
  "kernelspec": {
   "display_name": "Python 3",
   "language": "python",
   "name": "python3"
  },
  "language_info": {
   "codemirror_mode": {
    "name": "ipython",
    "version": 2
   },
   "file_extension": ".py",
   "mimetype": "text/x-python",
   "name": "python",
   "nbconvert_exporter": "python",
   "pygments_lexer": "ipython2",
   "version": "2.7.6"
  }
 },
 "nbformat": 4,
 "nbformat_minor": 5
}
