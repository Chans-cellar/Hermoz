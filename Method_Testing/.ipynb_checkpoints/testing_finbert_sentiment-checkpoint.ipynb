{
 "cells": [
  {
   "cell_type": "code",
   "execution_count": 29,
   "id": "initial_id",
   "metadata": {
    "collapsed": true,
    "ExecuteTime": {
     "end_time": "2024-05-24T14:08:31.639725700Z",
     "start_time": "2024-05-24T14:08:31.619509900Z"
    }
   },
   "outputs": [],
   "source": [
    "from transformers import BertTokenizer, BertForSequenceClassification, pipeline\n",
    "import torch"
   ]
  },
  {
   "cell_type": "code",
   "execution_count": 30,
   "outputs": [],
   "source": [
    "# Load the FinBERT tokenizer and model\n",
    "tokenizer = BertTokenizer.from_pretrained('ProsusAI/finbert')\n",
    "model = BertForSequenceClassification.from_pretrained('ProsusAI/finbert')"
   ],
   "metadata": {
    "collapsed": false,
    "ExecuteTime": {
     "end_time": "2024-05-24T14:08:35.818055200Z",
     "start_time": "2024-05-24T14:08:33.352831800Z"
    }
   },
   "id": "3641b80e39ebe85"
  },
  {
   "cell_type": "code",
   "execution_count": 31,
   "outputs": [],
   "source": [
    "# Create a sentiment analysis pipeline\n",
    "nlp = pipeline('sentiment-analysis', model=model, tokenizer=tokenizer)"
   ],
   "metadata": {
    "collapsed": false,
    "ExecuteTime": {
     "end_time": "2024-05-24T14:08:36.876638900Z",
     "start_time": "2024-05-24T14:08:36.863847Z"
    }
   },
   "id": "4d599485718b3d53"
  },
  {
   "cell_type": "code",
   "execution_count": 22,
   "outputs": [],
   "source": [
    "# Sample economic texts\n",
    "texts = [\n",
    "    \"Aviva, Friends Life top forecasts ahead of 5.6 billion pound merger\"\n",
    "]"
   ],
   "metadata": {
    "collapsed": false,
    "ExecuteTime": {
     "end_time": "2024-05-24T12:46:37.195289Z",
     "start_time": "2024-05-24T12:46:37.185235800Z"
    }
   },
   "id": "c2bfba770bc14e08"
  },
  {
   "cell_type": "markdown",
   "source": [
    "SENTIMENT SCORES"
   ],
   "metadata": {
    "collapsed": false
   },
   "id": "3e8480831f2d030b"
  },
  {
   "cell_type": "code",
   "execution_count": 23,
   "outputs": [],
   "source": [
    "# Tokenize the texts\n",
    "inputs = tokenizer(texts, return_tensors='pt', padding=True, truncation=True)\n",
    "\n",
    "# Get the raw scores (logits) from the model\n",
    "with torch.no_grad():\n",
    "    outputs = model(**inputs)\n",
    "    logits = outputs.logits\n",
    "\n",
    "# Convert logits to sentiment scores\n",
    "scores = torch.softmax(logits, dim=1)"
   ],
   "metadata": {
    "collapsed": false,
    "ExecuteTime": {
     "end_time": "2024-05-24T12:46:37.701511600Z",
     "start_time": "2024-05-24T12:46:37.635565400Z"
    }
   },
   "id": "4f77c4772490de9f"
  },
  {
   "cell_type": "code",
   "execution_count": 24,
   "outputs": [
    {
     "name": "stdout",
     "output_type": "stream",
     "text": [
      "Text: Aviva, Friends Life top forecasts ahead of 5.6 billion pound merger\n",
      "Positive: 0.6157, Neutral: 0.0231, Negative: 0.3612\n"
     ]
    }
   ],
   "source": [
    "# Print the results\n",
    "for text, score in zip(texts, scores):\n",
    "    print(f\"Text: {text}\")\n",
    "    print(f\"Positive: {score[0]:.4f}, Neutral: {score[1]:.4f}, Negative: {score[2]:.4f}\\n\")"
   ],
   "metadata": {
    "collapsed": false,
    "ExecuteTime": {
     "end_time": "2024-05-24T12:46:38.373682500Z",
     "start_time": "2024-05-24T12:46:38.347642500Z"
    }
   },
   "id": "b790f9701a720fd0"
  },
  {
   "cell_type": "markdown",
   "source": [
    "SENTIMENT CLASSES"
   ],
   "metadata": {
    "collapsed": false
   },
   "id": "78630181a14afdd0"
  },
  {
   "cell_type": "code",
   "execution_count": 25,
   "outputs": [],
   "source": [
    "# Get the raw scores (logits) from the model\n",
    "with torch.no_grad():\n",
    "    outputs = model(**inputs)\n",
    "    logits = outputs.logits\n",
    "\n",
    "# Convert logits to sentiment scores\n",
    "scores = torch.softmax(logits, dim=1)\n",
    "\n",
    "# Define sentiment labels\n",
    "labels = ['positive', 'neutral', 'negative']\n",
    "\n",
    "# Determine the sentiment class\n",
    "sentiment_classes = [labels[torch.argmax(score)] for score in scores]"
   ],
   "metadata": {
    "collapsed": false,
    "ExecuteTime": {
     "end_time": "2024-05-24T12:55:29.104233100Z",
     "start_time": "2024-05-24T12:55:29.030382Z"
    }
   },
   "id": "19bcba4d3813b6be"
  },
  {
   "cell_type": "code",
   "execution_count": 26,
   "outputs": [
    {
     "name": "stdout",
     "output_type": "stream",
     "text": [
      "Text: Aviva, Friends Life top forecasts ahead of 5.6 billion pound merger\n",
      "Sentiment: positive\n"
     ]
    }
   ],
   "source": [
    "# Print the results\n",
    "for text, sentiment in zip(texts, sentiment_classes):\n",
    "    print(f\"Text: {text}\\nSentiment: {sentiment}\\n\")"
   ],
   "metadata": {
    "collapsed": false,
    "ExecuteTime": {
     "end_time": "2024-05-24T12:55:31.655376400Z",
     "start_time": "2024-05-24T12:55:31.640849Z"
    }
   },
   "id": "665cfa0025481a5e"
  },
  {
   "cell_type": "code",
   "execution_count": 32,
   "outputs": [],
   "source": [
    "import pandas as pd\n",
    "\n",
    "def predict(text):\n",
    "    # Ensure text is a string\n",
    "    if pd.isna(text):\n",
    "        return \"No Text\"  # Handle NaN values by returning a default label or similar indication\n",
    "    text = str(text)  # Convert text to string in case it's not\n",
    "\n",
    "    # Encode the input text, truncate if longer than 512 tokens\n",
    "    inputs = tokenizer(text, return_tensors='pt', padding=True, truncation=True)\n",
    "    \n",
    "    # Get logits from the model\n",
    "    with torch.no_grad():\n",
    "        output = model(**inputs)\n",
    "        logits = output.logits\n",
    "    \n",
    "    # Convert logits to sentiment scores\n",
    "    score = torch.softmax(logits, dim=1)\n",
    "\n",
    "    # Define sentiment labels\n",
    "    labels = ['positive', 'neutral', 'negative']\n",
    "    \n",
    "    prediction_label = labels[torch.argmax(score)]    \n",
    "    \n",
    "    return prediction_label\n",
    "\n",
    "# Load the CSV file\n",
    "df = pd.read_csv('E:\\\\studies\\\\USJ FOT\\\\lecture\\\\Research\\\\CodeBase\\\\Method_Testing\\\\data.csv')\n",
    "\n",
    "# Apply predictions\n",
    "df['predicted_label'] = df['Sentence'].apply(predict)\n",
    "\n",
    "# Save the updated DataFrame to a new CSV file\n",
    "df.to_csv('fibnbert_sentiment_test.csv', index=False)"
   ],
   "metadata": {
    "collapsed": false,
    "ExecuteTime": {
     "end_time": "2024-05-24T14:13:55.004012Z",
     "start_time": "2024-05-24T14:08:45.052463400Z"
    }
   },
   "id": "36e11c39f17e8f7e"
  },
  {
   "cell_type": "code",
   "execution_count": 35,
   "outputs": [],
   "source": [
    "# Convert to numpy arrays (ensure dtype is consistent)\n",
    "label_mapping = {'positive': 0, 'neutral': 1, 'negative': 2}\n",
    "df['true_label_id'] = df['Sentiment'].map(label_mapping)\n",
    "df['predicted_label_id'] = df['predicted_label'].map(label_mapping)\n",
    "\n",
    "true_labels = df['true_label_id'].values.astype(int)\n",
    "predicted_labels = df['predicted_label_id'].values.astype(int)"
   ],
   "metadata": {
    "collapsed": false,
    "ExecuteTime": {
     "end_time": "2024-05-24T14:23:25.279709400Z",
     "start_time": "2024-05-24T14:23:25.272675100Z"
    }
   },
   "id": "c035132817118fa1"
  },
  {
   "cell_type": "code",
   "execution_count": 36,
   "outputs": [
    {
     "data": {
      "text/plain": "<Figure size 1000x700 with 2 Axes>",
      "image/png": "[encoded data removed]"
     },
     "metadata": {},
     "output_type": "display_data"
    }
   ],
   "source": [
    "from sklearn.metrics import confusion_matrix\n",
    "import seaborn as sns\n",
    "import matplotlib.pyplot as plt\n",
    "\n",
    "# Confusion Matrix\n",
    "conf_matrix = confusion_matrix(true_labels, predicted_labels)\n",
    "plt.figure(figsize=(10, 7))\n",
    "sns.heatmap(conf_matrix, annot=True, fmt='d', cmap=\"Blues\")\n",
    "plt.title('Confusion Matrix')\n",
    "plt.xlabel('Predicted Labels')\n",
    "plt.ylabel('True Labels')\n",
    "plt.show()"
   ],
   "metadata": {
    "collapsed": false,
    "ExecuteTime": {
     "end_time": "2024-05-24T14:24:07.262107700Z",
     "start_time": "2024-05-24T14:24:06.983071500Z"
    }
   },
   "id": "f51e1ebfff8c7bc2"
  },
  {
   "cell_type": "code",
   "execution_count": null,
   "outputs": [],
   "source": [],
   "metadata": {
    "collapsed": false
   },
   "id": "564237ec7466bb70"
  }
 ],
 "metadata": {
  "kernelspec": {
   "display_name": "Python 3",
   "language": "python",
   "name": "python3"
  },
  "language_info": {
   "codemirror_mode": {
    "name": "ipython",
    "version": 2
   },
   "file_extension": ".py",
   "mimetype": "text/x-python",
   "name": "python",
   "nbconvert_exporter": "python",
   "pygments_lexer": "ipython2",
   "version": "2.7.6"
  }
 },
 "nbformat": 4,
 "nbformat_minor": 5
}
