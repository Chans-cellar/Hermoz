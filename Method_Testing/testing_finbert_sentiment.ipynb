{
 "cells": [
  {
   "cell_type": "code",
   "execution_count": 1,
   "id": "initial_id",
   "metadata": {
    "collapsed": true,
    "jupyter": {
     "outputs_hidden": true
    },
    "ExecuteTime": {
     "end_time": "2024-05-24T17:45:14.661314Z",
     "start_time": "2024-05-24T17:45:11.436868500Z"
    }
   },
   "outputs": [],
   "source": [
    "from transformers import BertTokenizer, BertForSequenceClassification, pipeline\n",
    "import torch"
   ]
  },
  {
   "cell_type": "code",
   "execution_count": 2,
   "id": "3641b80e39ebe85",
   "metadata": {
    "collapsed": false,
    "ExecuteTime": {
     "end_time": "2024-05-24T17:45:19.198752700Z",
     "start_time": "2024-05-24T17:45:16.787417600Z"
    }
   },
   "outputs": [],
   "source": [
    "# Load the FinBERT tokenizer and model\n",
    "tokenizer = BertTokenizer.from_pretrained('ProsusAI/finbert')\n",
    "model = BertForSequenceClassification.from_pretrained('ProsusAI/finbert')"
   ]
  },
  {
   "cell_type": "code",
   "execution_count": 3,
   "id": "4d599485718b3d53",
   "metadata": {
    "collapsed": false,
    "ExecuteTime": {
     "end_time": "2024-05-24T17:45:22.606000100Z",
     "start_time": "2024-05-24T17:45:22.600353700Z"
    }
   },
   "outputs": [],
   "source": [
    "# Create a sentiment analysis pipeline\n",
    "nlp = pipeline('sentiment-analysis', model=model, tokenizer=tokenizer)"
   ]
  },
  {
   "cell_type": "code",
   "execution_count": 8,
   "id": "c2bfba770bc14e08",
   "metadata": {
    "collapsed": false,
    "ExecuteTime": {
     "end_time": "2024-05-24T17:47:05.868533300Z",
     "start_time": "2024-05-24T17:47:05.856535100Z"
    }
   },
   "outputs": [],
   "source": [
    "# Sample economic texts\n",
    "texts = [\n",
    "    \"$TSLA recalling pretty much every single model X @cnnbrk got to short that even at work you jump in money trade\"\n",
    "]"
   ]
  },
  {
   "cell_type": "markdown",
   "id": "3e8480831f2d030b",
   "metadata": {
    "collapsed": false
   },
   "source": [
    "SENTIMENT SCORES"
   ]
  },
  {
   "cell_type": "code",
   "execution_count": 18,
   "id": "4f77c4772490de9f",
   "metadata": {
    "collapsed": false,
    "ExecuteTime": {
     "end_time": "2024-05-24T17:50:08.243913700Z",
     "start_time": "2024-05-24T17:50:08.180828Z"
    }
   },
   "outputs": [
    {
     "name": "stdout",
     "output_type": "stream",
     "text": [
      "tensor(0.0361)\n"
     ]
    }
   ],
   "source": [
    "# Tokenize the texts\n",
    "inputs = tokenizer(texts, return_tensors='pt', padding=True, truncation=True)\n",
    "\n",
    "# Get the raw scores (logits) from the model\n",
    "with torch.no_grad():\n",
    "    outputs = model(**inputs)\n",
    "    logits = outputs.logits\n",
    "\n",
    "# Convert logits to sentiment scores\n",
    "scores = torch.softmax(logits, dim=1)\n",
    "print(scores[0][0])"
   ]
  },
  {
   "cell_type": "code",
   "execution_count": 21,
   "id": "b790f9701a720fd0",
   "metadata": {
    "collapsed": false,
    "ExecuteTime": {
     "end_time": "2024-05-24T17:52:33.405729800Z",
     "start_time": "2024-05-24T17:52:33.380805100Z"
    }
   },
   "outputs": [
    {
     "ename": "TypeError",
     "evalue": "can only concatenate str (not \"Tensor\") to str",
     "output_type": "error",
     "traceback": [
      "\u001B[1;31m---------------------------------------------------------------------------\u001B[0m",
      "\u001B[1;31mTypeError\u001B[0m                                 Traceback (most recent call last)",
      "Cell \u001B[1;32mIn[21], line 3\u001B[0m\n\u001B[0;32m      1\u001B[0m \u001B[38;5;66;03m# Print the results\u001B[39;00m\n\u001B[0;32m      2\u001B[0m \u001B[38;5;28;01mfor\u001B[39;00m text \u001B[38;5;129;01min\u001B[39;00m texts:\n\u001B[1;32m----> 3\u001B[0m     \u001B[38;5;28mprint\u001B[39m(\u001B[38;5;124;43mf\u001B[39;49m\u001B[38;5;124;43m\"\u001B[39;49m\u001B[38;5;124;43mPositive\u001B[39;49m\u001B[38;5;124;43m\"\u001B[39;49m\u001B[43m \u001B[49m\u001B[38;5;241;43m+\u001B[39;49m\u001B[43m \u001B[49m\u001B[43mscores\u001B[49m\u001B[43m[\u001B[49m\u001B[38;5;241;43m0\u001B[39;49m\u001B[43m]\u001B[49m\u001B[43m[\u001B[49m\u001B[38;5;241;43m0\u001B[39;49m\u001B[43m]\u001B[49m)\n\u001B[0;32m      4\u001B[0m \u001B[38;5;66;03m# for text, score in zip(texts, scores):\u001B[39;00m\n\u001B[0;32m      5\u001B[0m \u001B[38;5;66;03m#     # print(scores)\u001B[39;00m\n\u001B[0;32m      6\u001B[0m \u001B[38;5;66;03m#     # print(f\"Text: {text}\")\u001B[39;00m\n\u001B[0;32m      7\u001B[0m \u001B[38;5;66;03m#     print(f\"Positive: {score[0]:.4f}, Neutral: {score[1]:.4f}, Negative: {score[2]:.4f}\\n\")\u001B[39;00m\n",
      "\u001B[1;31mTypeError\u001B[0m: can only concatenate str (not \"Tensor\") to str"
     ]
    }
   ],
   "source": [
    "# Print the results\n",
    "for text in texts:\n",
    "    print(f\"Positive: {scores[0][0]:.4f}, Neutral: {scores[0][1]:.4f}, Negative: {scores[0][2]:.4f}\\n\")\n",
    "# for text, score in zip(texts, scores):\n",
    "#     # print(scores)\n",
    "#     # print(f\"Text: {text}\")\n",
    "#     print(f\"Positive: {score[0]:.4f}, Neutral: {score[1]:.4f}, Negative: {score[2]:.4f}\\n\")"
   ]
  },
  {
   "cell_type": "markdown",
   "id": "78630181a14afdd0",
   "metadata": {
    "collapsed": false
   },
   "source": [
    "SENTIMENT CLASSES"
   ]
  },
  {
   "cell_type": "code",
   "execution_count": 25,
   "id": "19bcba4d3813b6be",
   "metadata": {
    "ExecuteTime": {
     "end_time": "2024-05-24T12:55:29.104233100Z",
     "start_time": "2024-05-24T12:55:29.030382Z"
    },
    "collapsed": false
   },
   "outputs": [],
   "source": [
    "# Get the raw scores (logits) from the model\n",
    "with torch.no_grad():\n",
    "    outputs = model(**inputs)\n",
    "    logits = outputs.logits\n",
    "\n",
    "# Convert logits to sentiment scores\n",
    "scores = torch.softmax(logits, dim=1)\n",
    "\n",
    "# Define sentiment labels\n",
    "labels = ['positive', 'neutral', 'negative']\n",
    "\n",
    "# Determine the sentiment class\n",
    "sentiment_classes = [labels[torch.argmax(score)] for score in scores]"
   ]
  },
  {
   "cell_type": "code",
   "execution_count": 26,
   "id": "665cfa0025481a5e",
   "metadata": {
    "ExecuteTime": {
     "end_time": "2024-05-24T12:55:31.655376400Z",
     "start_time": "2024-05-24T12:55:31.640849Z"
    },
    "collapsed": false
   },
   "outputs": [
    {
     "name": "stdout",
     "output_type": "stream",
     "text": [
      "Text: Aviva, Friends Life top forecasts ahead of 5.6 billion pound merger\n",
      "Sentiment: positive\n"
     ]
    }
   ],
   "source": [
    "# Print the results\n",
    "for text, sentiment in zip(texts, sentiment_classes):\n",
    "    print(f\"Text: {text}\\nSentiment: {sentiment}\\n\")"
   ]
  },
  {
   "cell_type": "code",
   "execution_count": 41,
   "id": "36e11c39f17e8f7e",
   "metadata": {
    "collapsed": false,
    "ExecuteTime": {
     "end_time": "2024-05-24T14:43:49.600211800Z",
     "start_time": "2024-05-24T14:38:33.864763400Z"
    }
   },
   "outputs": [],
   "source": [
    "import pandas as pd\n",
    "\n",
    "# Load the CSV file\n",
    "df = pd.read_csv('E:\\\\studies\\\\USJ FOT\\\\lecture\\\\Research\\\\CodeBase\\\\Method_Testing\\\\data.csv')\n",
    "total_sentences = len(df)\n",
    "\n",
    "\n",
    "def predict(text):\n",
    "    # Ensure text is a string\n",
    "    if pd.isna(text):\n",
    "        return \"No Text\"  # Handle NaN values by returning a default label or similar indication\n",
    "    text = str(text)  # Convert text to string in case it's not\n",
    "\n",
    "    # Encode the input text, truncate if longer than 512 tokens\n",
    "    inputs = tokenizer(text, return_tensors='pt', padding=True, truncation=True)\n",
    "    \n",
    "    # Get logits from the model\n",
    "    with torch.no_grad():\n",
    "        output = model(**inputs)\n",
    "        logits = output.logits\n",
    "    \n",
    "    # Convert logits to sentiment scores\n",
    "    score = torch.softmax(logits, dim=1)\n",
    "\n",
    "    # Define sentiment labels\n",
    "    labels = ['positive', 'negative' , 'neutral']\n",
    "    \n",
    "    prediction_label = labels[torch.argmax(score)]    \n",
    "    # progress = (i + 1) / total_sentences * 100\n",
    "    # print(i)\n",
    "    # print(f'Processing: {progress:.2f}%')\n",
    "    # \n",
    "    return prediction_label\n",
    "\n",
    "\n",
    "\n",
    "# Apply predictions\n",
    "df['predicted_label'] = df['Sentence'].apply(predict)\n",
    "\n",
    "# Save the updated DataFrame to a new CSV file\n",
    "df.to_csv('fibnbert_sentiment_test.csv', index=False)"
   ]
  },
  {
   "cell_type": "code",
   "execution_count": 42,
   "id": "c035132817118fa1",
   "metadata": {
    "collapsed": false,
    "ExecuteTime": {
     "end_time": "2024-05-24T14:45:00.980518800Z",
     "start_time": "2024-05-24T14:45:00.974988200Z"
    }
   },
   "outputs": [],
   "source": [
    "# Convert to numpy arrays (ensure dtype is consistent)\n",
    "label_mapping = {'positive': 0, 'neutral': 1, 'negative': 2}\n",
    "df['true_label_id'] = df['Sentiment'].map(label_mapping)\n",
    "df['predicted_label_id'] = df['predicted_label'].map(label_mapping)\n",
    "\n",
    "true_labels = df['true_label_id'].values.astype(int)\n",
    "predicted_labels = df['predicted_label_id'].values.astype(int)"
   ]
  },
  {
   "cell_type": "code",
   "execution_count": 44,
   "id": "f51e1ebfff8c7bc2",
   "metadata": {
    "collapsed": false,
    "ExecuteTime": {
     "end_time": "2024-05-24T14:46:09.382807200Z",
     "start_time": "2024-05-24T14:46:09.235837600Z"
    }
   },
   "outputs": [
    {
     "name": "stdout",
     "output_type": "stream",
     "text": [
      "Accuracy: 0.7581307771311194\n",
      "Precision: 0.7883580419766223\n",
      "Recall: 0.7581307771311194\n",
      "F1 Score: 0.7654873846129269\n"
     ]
    },
    {
     "data": {
      "text/plain": "<Figure size 1000x700 with 2 Axes>",
      "image/png": "[encoded data removed]"
     },
     "metadata": {},
     "output_type": "display_data"
    }
   ],
   "source": [
    "from sklearn.metrics import confusion_matrix,accuracy_score, precision_score,recall_score,f1_score\n",
    "import seaborn as sns\n",
    "import matplotlib.pyplot as plt\n",
    "\n",
    "# Calculate metrics\n",
    "accuracy = accuracy_score(true_labels, predicted_labels)\n",
    "precision = precision_score(true_labels, predicted_labels, average='weighted')\n",
    "recall = recall_score(true_labels, predicted_labels, average='weighted')\n",
    "f1 = f1_score(true_labels, predicted_labels, average='weighted')\n",
    "\n",
    "print(f'Accuracy: {accuracy}')\n",
    "print(f'Precision: {precision}')\n",
    "print(f'Recall: {recall}')\n",
    "print(f'F1 Score: {f1}')\n",
    "\n",
    "# Confusion Matrix\n",
    "conf_matrix = confusion_matrix(true_labels, predicted_labels)\n",
    "plt.figure(figsize=(10, 7))\n",
    "sns.heatmap(conf_matrix, annot=True, fmt='d', cmap=\"Blues\")\n",
    "plt.title('Confusion Matrix')\n",
    "plt.xlabel('Predicted Labels')\n",
    "plt.ylabel('True Labels')\n",
    "plt.show()"
   ]
  },
  {
   "cell_type": "code",
   "execution_count": null,
   "id": "564237ec7466bb70",
   "metadata": {
    "collapsed": false
   },
   "outputs": [],
   "source": []
  }
 ],
 "metadata": {
  "kernelspec": {
   "display_name": "Python 3 (ipykernel)",
   "language": "python",
   "name": "python3"
  },
  "language_info": {
   "codemirror_mode": {
    "name": "ipython",
    "version": 3
   },
   "file_extension": ".py",
   "mimetype": "text/x-python",
   "name": "python",
   "nbconvert_exporter": "python",
   "pygments_lexer": "ipython3",
   "version": "3.11.4"
  }
 },
 "nbformat": 4,
 "nbformat_minor": 5
}
