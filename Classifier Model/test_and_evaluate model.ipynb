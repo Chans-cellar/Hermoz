{
 "cells": [
  {
   "cell_type": "code",
   "execution_count": 1,
   "id": "initial_id",
   "metadata": {
    "ExecuteTime": {
     "end_time": "2024-05-16T05:15:54.106157200Z",
     "start_time": "2024-05-16T05:15:40.628613600Z"
    },
    "collapsed": true,
    "jupyter": {
     "outputs_hidden": true
    }
   },
   "outputs": [
    {
     "name": "stdout",
     "output_type": "stream",
     "text": [
      "Collecting jupyter\n",
      "  Downloading jupyter-1.0.0-py2.py3-none-any.whl.metadata (995 bytes)\n",
      "Requirement already satisfied: transformers in c:\\users\\dell\\appdata\\local\\programs\\python\\python311\\lib\\site-packages (4.40.1)\n",
      "Requirement already satisfied: torch in c:\\users\\dell\\appdata\\local\\programs\\python\\python311\\lib\\site-packages (2.3.0)\n",
      "Requirement already satisfied: notebook in c:\\users\\dell\\appdata\\local\\programs\\python\\python311\\lib\\site-packages (from jupyter) (7.0.6)\n",
      "Collecting qtconsole (from jupyter)\n",
      "  Downloading qtconsole-5.5.2-py3-none-any.whl.metadata (5.1 kB)\n",
      "Collecting jupyter-console (from jupyter)\n",
      "  Downloading jupyter_console-6.6.3-py3-none-any.whl.metadata (5.8 kB)\n",
      "Requirement already satisfied: nbconvert in c:\\users\\dell\\appdata\\local\\programs\\python\\python311\\lib\\site-packages (from jupyter) (7.12.0)\n",
      "Requirement already satisfied: ipykernel in c:\\users\\dell\\appdata\\local\\programs\\python\\python311\\lib\\site-packages (from jupyter) (6.27.1)\n",
      "Collecting ipywidgets (from jupyter)\n",
      "  Downloading ipywidgets-8.1.2-py3-none-any.whl.metadata (2.4 kB)\n",
      "Requirement already satisfied: filelock in c:\\users\\dell\\appdata\\local\\programs\\python\\python311\\lib\\site-packages (from transformers) (3.13.1)\n",
      "Requirement already satisfied: huggingface-hub<1.0,>=0.19.3 in c:\\users\\dell\\appdata\\local\\programs\\python\\python311\\lib\\site-packages (from transformers) (0.22.2)\n",
      "Requirement already satisfied: numpy>=1.17 in c:\\users\\dell\\appdata\\local\\programs\\python\\python311\\lib\\site-packages (from transformers) (1.26.2)\n",
      "Requirement already satisfied: packaging>=20.0 in c:\\users\\dell\\appdata\\local\\programs\\python\\python311\\lib\\site-packages (from transformers) (23.2)\n",
      "Requirement already satisfied: pyyaml>=5.1 in c:\\users\\dell\\appdata\\local\\programs\\python\\python311\\lib\\site-packages (from transformers) (6.0.1)\n",
      "Requirement already satisfied: regex!=2019.12.17 in c:\\users\\dell\\appdata\\local\\programs\\python\\python311\\lib\\site-packages (from transformers) (2023.12.25)\n",
      "Requirement already satisfied: requests in c:\\users\\dell\\appdata\\local\\programs\\python\\python311\\lib\\site-packages (from transformers) (2.31.0)\n",
      "Requirement already satisfied: tokenizers<0.20,>=0.19 in c:\\users\\dell\\appdata\\local\\programs\\python\\python311\\lib\\site-packages (from transformers) (0.19.1)\n",
      "Requirement already satisfied: safetensors>=0.4.1 in c:\\users\\dell\\appdata\\local\\programs\\python\\python311\\lib\\site-packages (from transformers) (0.4.3)\n",
      "Requirement already satisfied: tqdm>=4.27 in c:\\users\\dell\\appdata\\local\\programs\\python\\python311\\lib\\site-packages (from transformers) (4.66.1)\n",
      "Requirement already satisfied: typing-extensions>=4.8.0 in c:\\users\\dell\\appdata\\local\\programs\\python\\python311\\lib\\site-packages (from torch) (4.9.0)\n",
      "Requirement already satisfied: sympy in c:\\users\\dell\\appdata\\local\\programs\\python\\python311\\lib\\site-packages (from torch) (1.12)\n",
      "Requirement already satisfied: networkx in c:\\users\\dell\\appdata\\local\\programs\\python\\python311\\lib\\site-packages (from torch) (3.3)\n",
      "Requirement already satisfied: jinja2 in c:\\users\\dell\\appdata\\local\\programs\\python\\python311\\lib\\site-packages (from torch) (3.1.2)\n",
      "Requirement already satisfied: fsspec in c:\\users\\dell\\appdata\\local\\programs\\python\\python311\\lib\\site-packages (from torch) (2024.3.1)\n",
      "Requirement already satisfied: mkl<=2021.4.0,>=2021.1.1 in c:\\users\\dell\\appdata\\local\\programs\\python\\python311\\lib\\site-packages (from torch) (2021.4.0)\n",
      "Requirement already satisfied: intel-openmp==2021.* in c:\\users\\dell\\appdata\\local\\programs\\python\\python311\\lib\\site-packages (from mkl<=2021.4.0,>=2021.1.1->torch) (2021.4.0)\n",
      "Requirement already satisfied: tbb==2021.* in c:\\users\\dell\\appdata\\local\\programs\\python\\python311\\lib\\site-packages (from mkl<=2021.4.0,>=2021.1.1->torch) (2021.12.0)\n",
      "Requirement already satisfied: colorama in c:\\users\\dell\\appdata\\local\\programs\\python\\python311\\lib\\site-packages (from tqdm>=4.27->transformers) (0.4.6)\n",
      "Requirement already satisfied: comm>=0.1.1 in c:\\users\\dell\\appdata\\local\\programs\\python\\python311\\lib\\site-packages (from ipykernel->jupyter) (0.2.0)\n",
      "Requirement already satisfied: debugpy>=1.6.5 in c:\\users\\dell\\appdata\\local\\programs\\python\\python311\\lib\\site-packages (from ipykernel->jupyter) (1.8.0)\n",
      "Requirement already satisfied: ipython>=7.23.1 in c:\\users\\dell\\appdata\\local\\programs\\python\\python311\\lib\\site-packages (from ipykernel->jupyter) (8.18.1)\n",
      "Requirement already satisfied: jupyter-client>=6.1.12 in c:\\users\\dell\\appdata\\local\\programs\\python\\python311\\lib\\site-packages (from ipykernel->jupyter) (8.6.0)\n",
      "Requirement already satisfied: jupyter-core!=5.0.*,>=4.12 in c:\\users\\dell\\appdata\\local\\programs\\python\\python311\\lib\\site-packages (from ipykernel->jupyter) (5.5.0)\n",
      "Requirement already satisfied: matplotlib-inline>=0.1 in c:\\users\\dell\\appdata\\local\\programs\\python\\python311\\lib\\site-packages (from ipykernel->jupyter) (0.1.6)\n",
      "Requirement already satisfied: nest-asyncio in c:\\users\\dell\\appdata\\local\\programs\\python\\python311\\lib\\site-packages (from ipykernel->jupyter) (1.5.8)\n",
      "Requirement already satisfied: psutil in c:\\users\\dell\\appdata\\local\\programs\\python\\python311\\lib\\site-packages (from ipykernel->jupyter) (5.9.6)\n",
      "Requirement already satisfied: pyzmq>=20 in c:\\users\\dell\\appdata\\local\\programs\\python\\python311\\lib\\site-packages (from ipykernel->jupyter) (25.1.2)\n",
      "Requirement already satisfied: tornado>=6.1 in c:\\users\\dell\\appdata\\local\\programs\\python\\python311\\lib\\site-packages (from ipykernel->jupyter) (6.4)\n",
      "Requirement already satisfied: traitlets>=5.4.0 in c:\\users\\dell\\appdata\\local\\programs\\python\\python311\\lib\\site-packages (from ipykernel->jupyter) (5.14.0)\n",
      "Collecting widgetsnbextension~=4.0.10 (from ipywidgets->jupyter)\n",
      "  Downloading widgetsnbextension-4.0.10-py3-none-any.whl.metadata (1.6 kB)\n",
      "Collecting jupyterlab-widgets~=3.0.10 (from ipywidgets->jupyter)\n",
      "  Downloading jupyterlab_widgets-3.0.10-py3-none-any.whl.metadata (4.1 kB)\n",
      "Requirement already satisfied: MarkupSafe>=2.0 in c:\\users\\dell\\appdata\\local\\programs\\python\\python311\\lib\\site-packages (from jinja2->torch) (2.1.3)\n",
      "Requirement already satisfied: prompt-toolkit>=3.0.30 in c:\\users\\dell\\appdata\\local\\programs\\python\\python311\\lib\\site-packages (from jupyter-console->jupyter) (3.0.41)\n",
      "Requirement already satisfied: pygments in c:\\users\\dell\\appdata\\local\\programs\\python\\python311\\lib\\site-packages (from jupyter-console->jupyter) (2.17.2)\n",
      "Requirement already satisfied: beautifulsoup4 in c:\\users\\dell\\appdata\\local\\programs\\python\\python311\\lib\\site-packages (from nbconvert->jupyter) (4.12.2)\n",
      "Requirement already satisfied: bleach!=5.0.0 in c:\\users\\dell\\appdata\\local\\programs\\python\\python311\\lib\\site-packages (from nbconvert->jupyter) (6.1.0)\n",
      "Requirement already satisfied: defusedxml in c:\\users\\dell\\appdata\\local\\programs\\python\\python311\\lib\\site-packages (from nbconvert->jupyter) (0.7.1)\n",
      "Requirement already satisfied: jupyterlab-pygments in c:\\users\\dell\\appdata\\local\\programs\\python\\python311\\lib\\site-packages (from nbconvert->jupyter) (0.3.0)\n",
      "Requirement already satisfied: mistune<4,>=2.0.3 in c:\\users\\dell\\appdata\\local\\programs\\python\\python311\\lib\\site-packages (from nbconvert->jupyter) (3.0.2)\n",
      "Requirement already satisfied: nbclient>=0.5.0 in c:\\users\\dell\\appdata\\local\\programs\\python\\python311\\lib\\site-packages (from nbconvert->jupyter) (0.9.0)\n",
      "Requirement already satisfied: nbformat>=5.7 in c:\\users\\dell\\appdata\\local\\programs\\python\\python311\\lib\\site-packages (from nbconvert->jupyter) (5.9.2)\n",
      "Requirement already satisfied: pandocfilters>=1.4.1 in c:\\users\\dell\\appdata\\local\\programs\\python\\python311\\lib\\site-packages (from nbconvert->jupyter) (1.5.0)\n",
      "Requirement already satisfied: tinycss2 in c:\\users\\dell\\appdata\\local\\programs\\python\\python311\\lib\\site-packages (from nbconvert->jupyter) (1.2.1)\n",
      "Requirement already satisfied: jupyter-server<3,>=2.4.0 in c:\\users\\dell\\appdata\\local\\programs\\python\\python311\\lib\\site-packages (from notebook->jupyter) (2.12.1)\n",
      "Requirement already satisfied: jupyterlab-server<3,>=2.22.1 in c:\\users\\dell\\appdata\\local\\programs\\python\\python311\\lib\\site-packages (from notebook->jupyter) (2.25.2)\n",
      "Requirement already satisfied: jupyterlab<5,>=4.0.2 in c:\\users\\dell\\appdata\\local\\programs\\python\\python311\\lib\\site-packages (from notebook->jupyter) (4.0.9)\n",
      "Requirement already satisfied: notebook-shim<0.3,>=0.2 in c:\\users\\dell\\appdata\\local\\programs\\python\\python311\\lib\\site-packages (from notebook->jupyter) (0.2.3)\n",
      "Collecting qtpy>=2.4.0 (from qtconsole->jupyter)\n",
      "  Downloading QtPy-2.4.1-py3-none-any.whl.metadata (12 kB)\n",
      "Requirement already satisfied: charset-normalizer<4,>=2 in c:\\users\\dell\\appdata\\local\\programs\\python\\python311\\lib\\site-packages (from requests->transformers) (3.3.2)\n",
      "Requirement already satisfied: idna<4,>=2.5 in c:\\users\\dell\\appdata\\local\\programs\\python\\python311\\lib\\site-packages (from requests->transformers) (3.6)\n",
      "Requirement already satisfied: urllib3<3,>=1.21.1 in c:\\users\\dell\\appdata\\local\\programs\\python\\python311\\lib\\site-packages (from requests->transformers) (2.1.0)\n",
      "Requirement already satisfied: certifi>=2017.4.17 in c:\\users\\dell\\appdata\\local\\programs\\python\\python311\\lib\\site-packages (from requests->transformers) (2023.11.17)\n",
      "Requirement already satisfied: mpmath>=0.19 in c:\\users\\dell\\appdata\\local\\programs\\python\\python311\\lib\\site-packages (from sympy->torch) (1.3.0)\n",
      "Requirement already satisfied: six>=1.9.0 in c:\\users\\dell\\appdata\\local\\programs\\python\\python311\\lib\\site-packages (from bleach!=5.0.0->nbconvert->jupyter) (1.16.0)\n",
      "Requirement already satisfied: webencodings in c:\\users\\dell\\appdata\\local\\programs\\python\\python311\\lib\\site-packages (from bleach!=5.0.0->nbconvert->jupyter) (0.5.1)\n",
      "Requirement already satisfied: decorator in c:\\users\\dell\\appdata\\local\\programs\\python\\python311\\lib\\site-packages (from ipython>=7.23.1->ipykernel->jupyter) (5.1.1)\n",
      "Requirement already satisfied: jedi>=0.16 in c:\\users\\dell\\appdata\\local\\programs\\python\\python311\\lib\\site-packages (from ipython>=7.23.1->ipykernel->jupyter) (0.19.1)\n",
      "Requirement already satisfied: stack-data in c:\\users\\dell\\appdata\\local\\programs\\python\\python311\\lib\\site-packages (from ipython>=7.23.1->ipykernel->jupyter) (0.6.3)\n",
      "Requirement already satisfied: python-dateutil>=2.8.2 in c:\\users\\dell\\appdata\\local\\programs\\python\\python311\\lib\\site-packages (from jupyter-client>=6.1.12->ipykernel->jupyter) (2.8.2)\n",
      "Requirement already satisfied: platformdirs>=2.5 in c:\\users\\dell\\appdata\\local\\programs\\python\\python311\\lib\\site-packages (from jupyter-core!=5.0.*,>=4.12->ipykernel->jupyter) (4.1.0)\n",
      "Requirement already satisfied: pywin32>=300 in c:\\users\\dell\\appdata\\local\\programs\\python\\python311\\lib\\site-packages (from jupyter-core!=5.0.*,>=4.12->ipykernel->jupyter) (306)\n",
      "Requirement already satisfied: anyio>=3.1.0 in c:\\users\\dell\\appdata\\local\\programs\\python\\python311\\lib\\site-packages (from jupyter-server<3,>=2.4.0->notebook->jupyter) (4.1.0)\n",
      "Requirement already satisfied: argon2-cffi in c:\\users\\dell\\appdata\\local\\programs\\python\\python311\\lib\\site-packages (from jupyter-server<3,>=2.4.0->notebook->jupyter) (23.1.0)\n",
      "Requirement already satisfied: jupyter-events>=0.9.0 in c:\\users\\dell\\appdata\\local\\programs\\python\\python311\\lib\\site-packages (from jupyter-server<3,>=2.4.0->notebook->jupyter) (0.9.0)\n",
      "Requirement already satisfied: jupyter-server-terminals in c:\\users\\dell\\appdata\\local\\programs\\python\\python311\\lib\\site-packages (from jupyter-server<3,>=2.4.0->notebook->jupyter) (0.4.4)\n",
      "Requirement already satisfied: overrides in c:\\users\\dell\\appdata\\local\\programs\\python\\python311\\lib\\site-packages (from jupyter-server<3,>=2.4.0->notebook->jupyter) (7.4.0)\n",
      "Requirement already satisfied: prometheus-client in c:\\users\\dell\\appdata\\local\\programs\\python\\python311\\lib\\site-packages (from jupyter-server<3,>=2.4.0->notebook->jupyter) (0.19.0)\n",
      "Requirement already satisfied: pywinpty in c:\\users\\dell\\appdata\\local\\programs\\python\\python311\\lib\\site-packages (from jupyter-server<3,>=2.4.0->notebook->jupyter) (2.0.12)\n",
      "Requirement already satisfied: send2trash>=1.8.2 in c:\\users\\dell\\appdata\\local\\programs\\python\\python311\\lib\\site-packages (from jupyter-server<3,>=2.4.0->notebook->jupyter) (1.8.2)\n",
      "Requirement already satisfied: terminado>=0.8.3 in c:\\users\\dell\\appdata\\local\\programs\\python\\python311\\lib\\site-packages (from jupyter-server<3,>=2.4.0->notebook->jupyter) (0.18.0)\n",
      "Requirement already satisfied: websocket-client in c:\\users\\dell\\appdata\\local\\programs\\python\\python311\\lib\\site-packages (from jupyter-server<3,>=2.4.0->notebook->jupyter) (1.7.0)\n",
      "Requirement already satisfied: async-lru>=1.0.0 in c:\\users\\dell\\appdata\\local\\programs\\python\\python311\\lib\\site-packages (from jupyterlab<5,>=4.0.2->notebook->jupyter) (2.0.4)\n",
      "Requirement already satisfied: jupyter-lsp>=2.0.0 in c:\\users\\dell\\appdata\\local\\programs\\python\\python311\\lib\\site-packages (from jupyterlab<5,>=4.0.2->notebook->jupyter) (2.2.1)\n",
      "Requirement already satisfied: babel>=2.10 in c:\\users\\dell\\appdata\\local\\programs\\python\\python311\\lib\\site-packages (from jupyterlab-server<3,>=2.22.1->notebook->jupyter) (2.13.1)\n",
      "Requirement already satisfied: json5>=0.9.0 in c:\\users\\dell\\appdata\\local\\programs\\python\\python311\\lib\\site-packages (from jupyterlab-server<3,>=2.22.1->notebook->jupyter) (0.9.14)\n",
      "Requirement already satisfied: jsonschema>=4.18.0 in c:\\users\\dell\\appdata\\local\\programs\\python\\python311\\lib\\site-packages (from jupyterlab-server<3,>=2.22.1->notebook->jupyter) (4.20.0)\n",
      "Requirement already satisfied: fastjsonschema in c:\\users\\dell\\appdata\\local\\programs\\python\\python311\\lib\\site-packages (from nbformat>=5.7->nbconvert->jupyter) (2.19.0)\n",
      "Requirement already satisfied: wcwidth in c:\\users\\dell\\appdata\\local\\programs\\python\\python311\\lib\\site-packages (from prompt-toolkit>=3.0.30->jupyter-console->jupyter) (0.2.12)\n",
      "Requirement already satisfied: soupsieve>1.2 in c:\\users\\dell\\appdata\\local\\programs\\python\\python311\\lib\\site-packages (from beautifulsoup4->nbconvert->jupyter) (2.5)\n",
      "Requirement already satisfied: sniffio>=1.1 in c:\\users\\dell\\appdata\\local\\programs\\python\\python311\\lib\\site-packages (from anyio>=3.1.0->jupyter-server<3,>=2.4.0->notebook->jupyter) (1.3.0)\n",
      "Requirement already satisfied: parso<0.9.0,>=0.8.3 in c:\\users\\dell\\appdata\\local\\programs\\python\\python311\\lib\\site-packages (from jedi>=0.16->ipython>=7.23.1->ipykernel->jupyter) (0.8.3)\n",
      "Requirement already satisfied: attrs>=22.2.0 in c:\\users\\dell\\appdata\\local\\programs\\python\\python311\\lib\\site-packages (from jsonschema>=4.18.0->jupyterlab-server<3,>=2.22.1->notebook->jupyter) (23.1.0)\n",
      "Requirement already satisfied: jsonschema-specifications>=2023.03.6 in c:\\users\\dell\\appdata\\local\\programs\\python\\python311\\lib\\site-packages (from jsonschema>=4.18.0->jupyterlab-server<3,>=2.22.1->notebook->jupyter) (2023.11.2)\n",
      "Requirement already satisfied: referencing>=0.28.4 in c:\\users\\dell\\appdata\\local\\programs\\python\\python311\\lib\\site-packages (from jsonschema>=4.18.0->jupyterlab-server<3,>=2.22.1->notebook->jupyter) (0.32.0)\n",
      "Requirement already satisfied: rpds-py>=0.7.1 in c:\\users\\dell\\appdata\\local\\programs\\python\\python311\\lib\\site-packages (from jsonschema>=4.18.0->jupyterlab-server<3,>=2.22.1->notebook->jupyter) (0.13.2)\n",
      "Requirement already satisfied: python-json-logger>=2.0.4 in c:\\users\\dell\\appdata\\local\\programs\\python\\python311\\lib\\site-packages (from jupyter-events>=0.9.0->jupyter-server<3,>=2.4.0->notebook->jupyter) (2.0.7)\n",
      "Requirement already satisfied: rfc3339-validator in c:\\users\\dell\\appdata\\local\\programs\\python\\python311\\lib\\site-packages (from jupyter-events>=0.9.0->jupyter-server<3,>=2.4.0->notebook->jupyter) (0.1.4)\n",
      "Requirement already satisfied: rfc3986-validator>=0.1.1 in c:\\users\\dell\\appdata\\local\\programs\\python\\python311\\lib\\site-packages (from jupyter-events>=0.9.0->jupyter-server<3,>=2.4.0->notebook->jupyter) (0.1.1)\n",
      "Requirement already satisfied: argon2-cffi-bindings in c:\\users\\dell\\appdata\\local\\programs\\python\\python311\\lib\\site-packages (from argon2-cffi->jupyter-server<3,>=2.4.0->notebook->jupyter) (21.2.0)\n",
      "Requirement already satisfied: executing>=1.2.0 in c:\\users\\dell\\appdata\\local\\programs\\python\\python311\\lib\\site-packages (from stack-data->ipython>=7.23.1->ipykernel->jupyter) (2.0.1)\n",
      "Requirement already satisfied: asttokens>=2.1.0 in c:\\users\\dell\\appdata\\local\\programs\\python\\python311\\lib\\site-packages (from stack-data->ipython>=7.23.1->ipykernel->jupyter) (2.4.1)\n",
      "Requirement already satisfied: pure-eval in c:\\users\\dell\\appdata\\local\\programs\\python\\python311\\lib\\site-packages (from stack-data->ipython>=7.23.1->ipykernel->jupyter) (0.2.2)\n",
      "Requirement already satisfied: fqdn in c:\\users\\dell\\appdata\\local\\programs\\python\\python311\\lib\\site-packages (from jsonschema[format-nongpl]>=4.18.0->jupyter-events>=0.9.0->jupyter-server<3,>=2.4.0->notebook->jupyter) (1.5.1)\n",
      "Requirement already satisfied: isoduration in c:\\users\\dell\\appdata\\local\\programs\\python\\python311\\lib\\site-packages (from jsonschema[format-nongpl]>=4.18.0->jupyter-events>=0.9.0->jupyter-server<3,>=2.4.0->notebook->jupyter) (20.11.0)\n",
      "Requirement already satisfied: jsonpointer>1.13 in c:\\users\\dell\\appdata\\local\\programs\\python\\python311\\lib\\site-packages (from jsonschema[format-nongpl]>=4.18.0->jupyter-events>=0.9.0->jupyter-server<3,>=2.4.0->notebook->jupyter) (2.4)\n",
      "Requirement already satisfied: uri-template in c:\\users\\dell\\appdata\\local\\programs\\python\\python311\\lib\\site-packages (from jsonschema[format-nongpl]>=4.18.0->jupyter-events>=0.9.0->jupyter-server<3,>=2.4.0->notebook->jupyter) (1.3.0)\n",
      "Requirement already satisfied: webcolors>=1.11 in c:\\users\\dell\\appdata\\local\\programs\\python\\python311\\lib\\site-packages (from jsonschema[format-nongpl]>=4.18.0->jupyter-events>=0.9.0->jupyter-server<3,>=2.4.0->notebook->jupyter) (1.13)\n",
      "Requirement already satisfied: cffi>=1.0.1 in c:\\users\\dell\\appdata\\local\\programs\\python\\python311\\lib\\site-packages (from argon2-cffi-bindings->argon2-cffi->jupyter-server<3,>=2.4.0->notebook->jupyter) (1.16.0)\n",
      "Requirement already satisfied: pycparser in c:\\users\\dell\\appdata\\local\\programs\\python\\python311\\lib\\site-packages (from cffi>=1.0.1->argon2-cffi-bindings->argon2-cffi->jupyter-server<3,>=2.4.0->notebook->jupyter) (2.21)\n",
      "Requirement already satisfied: arrow>=0.15.0 in c:\\users\\dell\\appdata\\local\\programs\\python\\python311\\lib\\site-packages (from isoduration->jsonschema[format-nongpl]>=4.18.0->jupyter-events>=0.9.0->jupyter-server<3,>=2.4.0->notebook->jupyter) (1.3.0)\n",
      "Requirement already satisfied: types-python-dateutil>=2.8.10 in c:\\users\\dell\\appdata\\local\\programs\\python\\python311\\lib\\site-packages (from arrow>=0.15.0->isoduration->jsonschema[format-nongpl]>=4.18.0->jupyter-events>=0.9.0->jupyter-server<3,>=2.4.0->notebook->jupyter) (2.8.19.14)\n",
      "Downloading jupyter-1.0.0-py2.py3-none-any.whl (2.7 kB)\n",
      "Downloading ipywidgets-8.1.2-py3-none-any.whl (139 kB)\n",
      "   ---------------------------------------- 0.0/139.4 kB ? eta -:--:--\n",
      "   -- ------------------------------------- 10.2/139.4 kB ? eta -:--:--\n",
      "   ----------- --------------------------- 41.0/139.4 kB 393.8 kB/s eta 0:00:01\n",
      "   ----------------- --------------------- 61.4/139.4 kB 544.7 kB/s eta 0:00:01\n",
      "   ------------------------- ------------- 92.2/139.4 kB 525.1 kB/s eta 0:00:01\n",
      "   ------------------------------ ------- 112.6/139.4 kB 544.7 kB/s eta 0:00:01\n",
      "   -------------------------------------- 139.4/139.4 kB 549.7 kB/s eta 0:00:00\n",
      "Downloading jupyter_console-6.6.3-py3-none-any.whl (24 kB)\n",
      "Downloading qtconsole-5.5.2-py3-none-any.whl (123 kB)\n",
      "   ---------------------------------------- 0.0/123.4 kB ? eta -:--:--\n",
      "   --------- ------------------------------ 30.7/123.4 kB 1.4 MB/s eta 0:00:01\n",
      "   ------------ -------------------------- 41.0/123.4 kB 653.6 kB/s eta 0:00:01\n",
      "   ------------------- ------------------- 61.4/123.4 kB 656.4 kB/s eta 0:00:01\n",
      "   ----------------------------- --------- 92.2/123.4 kB 585.1 kB/s eta 0:00:01\n",
      "   -------------------------------------- 123.4/123.4 kB 605.1 kB/s eta 0:00:00\n",
      "Downloading jupyterlab_widgets-3.0.10-py3-none-any.whl (215 kB)\n",
      "   ---------------------------------------- 0.0/215.0 kB ? eta -:--:--\n",
      "   - -------------------------------------- 10.2/215.0 kB ? eta -:--:--\n",
      "   ------- ------------------------------- 41.0/215.0 kB 653.6 kB/s eta 0:00:01\n",
      "   ----------- --------------------------- 61.4/215.0 kB 544.7 kB/s eta 0:00:01\n",
      "   ---------------- ---------------------- 92.2/215.0 kB 521.8 kB/s eta 0:00:01\n",
      "   ---------------- ---------------------- 92.2/215.0 kB 521.8 kB/s eta 0:00:01\n",
      "   --------------------- ---------------- 122.9/215.0 kB 450.6 kB/s eta 0:00:01\n",
      "   ---------------------------- --------- 163.8/215.0 kB 517.2 kB/s eta 0:00:01\n",
      "   ------------------------------ ------- 174.1/215.0 kB 523.5 kB/s eta 0:00:01\n",
      "   -------------------------------------- 215.0/215.0 kB 546.1 kB/s eta 0:00:00\n",
      "Downloading QtPy-2.4.1-py3-none-any.whl (93 kB)\n",
      "   ---------------------------------------- 0.0/93.5 kB ? eta -:--:--\n",
      "   ------------- -------------------------- 30.7/93.5 kB 1.3 MB/s eta 0:00:01\n",
      "   -------------------------- ------------- 61.4/93.5 kB 812.7 kB/s eta 0:00:01\n",
      "   ---------------------------------------- 93.5/93.5 kB 756.9 kB/s eta 0:00:00\n",
      "Downloading widgetsnbextension-4.0.10-py3-none-any.whl (2.3 MB)\n",
      "   ---------------------------------------- 0.0/2.3 MB ? eta -:--:--\n",
      "    --------------------------------------- 0.0/2.3 MB 1.3 MB/s eta 0:00:02\n",
      "   - -------------------------------------- 0.1/2.3 MB 812.7 kB/s eta 0:00:03\n",
      "   - -------------------------------------- 0.1/2.3 MB 744.7 kB/s eta 0:00:03\n",
      "   -- ------------------------------------- 0.1/2.3 MB 717.5 kB/s eta 0:00:04\n",
      "   --- ------------------------------------ 0.2/2.3 MB 807.1 kB/s eta 0:00:03\n",
      "   --- ------------------------------------ 0.2/2.3 MB 827.9 kB/s eta 0:00:03\n",
      "   ---- ----------------------------------- 0.2/2.3 MB 758.5 kB/s eta 0:00:03\n",
      "   ---- ----------------------------------- 0.3/2.3 MB 803.7 kB/s eta 0:00:03\n",
      "   ----- ---------------------------------- 0.3/2.3 MB 824.9 kB/s eta 0:00:03\n",
      "   ----- ---------------------------------- 0.3/2.3 MB 776.5 kB/s eta 0:00:03\n",
      "   ------ --------------------------------- 0.4/2.3 MB 768.6 kB/s eta 0:00:03\n",
      "   ------- -------------------------------- 0.4/2.3 MB 774.0 kB/s eta 0:00:03\n",
      "   ------- -------------------------------- 0.4/2.3 MB 767.5 kB/s eta 0:00:03\n",
      "   -------- ------------------------------- 0.5/2.3 MB 738.6 kB/s eta 0:00:03\n",
      "   -------- ------------------------------- 0.5/2.3 MB 732.5 kB/s eta 0:00:03\n",
      "   --------- ------------------------------ 0.5/2.3 MB 742.9 kB/s eta 0:00:03\n",
      "   --------- ------------------------------ 0.6/2.3 MB 750.9 kB/s eta 0:00:03\n",
      "   ---------- ----------------------------- 0.6/2.3 MB 770.9 kB/s eta 0:00:03\n",
      "   ----------- ---------------------------- 0.7/2.3 MB 764.4 kB/s eta 0:00:03\n",
      "   ----------- ---------------------------- 0.7/2.3 MB 747.0 kB/s eta 0:00:03\n",
      "   ------------ --------------------------- 0.7/2.3 MB 788.5 kB/s eta 0:00:02\n",
      "   ------------- -------------------------- 0.8/2.3 MB 779.7 kB/s eta 0:00:02\n",
      "   -------------- ------------------------- 0.8/2.3 MB 774.0 kB/s eta 0:00:02\n",
      "   -------------- ------------------------- 0.9/2.3 MB 788.4 kB/s eta 0:00:02\n",
      "   --------------- ------------------------ 0.9/2.3 MB 791.9 kB/s eta 0:00:02\n",
      "   ---------------- ----------------------- 1.0/2.3 MB 814.2 kB/s eta 0:00:02\n",
      "   ----------------- ---------------------- 1.0/2.3 MB 825.7 kB/s eta 0:00:02\n",
      "   ------------------ --------------------- 1.1/2.3 MB 843.8 kB/s eta 0:00:02\n",
      "   ------------------- -------------------- 1.1/2.3 MB 852.7 kB/s eta 0:00:02\n",
      "   -------------------- ------------------- 1.2/2.3 MB 850.8 kB/s eta 0:00:02\n",
      "   --------------------- ------------------ 1.2/2.3 MB 866.1 kB/s eta 0:00:02\n",
      "   ---------------------- ----------------- 1.3/2.3 MB 885.7 kB/s eta 0:00:02\n",
      "   ---------------------- ----------------- 1.3/2.3 MB 875.7 kB/s eta 0:00:02\n",
      "   ----------------------- ---------------- 1.4/2.3 MB 882.3 kB/s eta 0:00:02\n",
      "   ------------------------ --------------- 1.4/2.3 MB 889.0 kB/s eta 0:00:01\n",
      "   ------------------------- -------------- 1.5/2.3 MB 901.1 kB/s eta 0:00:01\n",
      "   ------------------------- -------------- 1.5/2.3 MB 901.1 kB/s eta 0:00:01\n",
      "   -------------------------- ------------- 1.5/2.3 MB 889.9 kB/s eta 0:00:01\n",
      "   --------------------------- ------------ 1.6/2.3 MB 904.6 kB/s eta 0:00:01\n",
      "   ----------------------------- ---------- 1.7/2.3 MB 920.6 kB/s eta 0:00:01\n",
      "   ----------------------------- ---------- 1.7/2.3 MB 912.0 kB/s eta 0:00:01\n",
      "   ------------------------------- -------- 1.8/2.3 MB 934.3 kB/s eta 0:00:01\n",
      "   -------------------------------- ------- 1.9/2.3 MB 954.3 kB/s eta 0:00:01\n",
      "   ---------------------------------- ----- 2.0/2.3 MB 983.0 kB/s eta 0:00:01\n",
      "   ----------------------------------- ---- 2.1/2.3 MB 1.0 MB/s eta 0:00:01\n",
      "   ------------------------------------- -- 2.1/2.3 MB 1.0 MB/s eta 0:00:01\n",
      "   -------------------------------------- - 2.2/2.3 MB 1.0 MB/s eta 0:00:01\n",
      "   ---------------------------------------- 2.3/2.3 MB 1.0 MB/s eta 0:00:00\n",
      "Installing collected packages: widgetsnbextension, qtpy, jupyterlab-widgets, ipywidgets, qtconsole, jupyter-console, jupyter\n",
      "Successfully installed ipywidgets-8.1.2 jupyter-1.0.0 jupyter-console-6.6.3 jupyterlab-widgets-3.0.10 qtconsole-5.5.2 qtpy-2.4.1 widgetsnbextension-4.0.10\n",
      "Note: you may need to restart the kernel to use updated packages.\n"
     ]
    },
    {
     "name": "stderr",
     "output_type": "stream",
     "text": [
      "\n",
      "[notice] A new release of pip is available: 23.3.1 -> 24.0\n",
      "[notice] To update, run: python.exe -m pip install --upgrade pip\n"
     ]
    }
   ],
   "source": [
    "pip install jupyter transformers torch"
   ]
  },
  {
   "cell_type": "markdown",
   "id": "293a89fd47f100fb",
   "metadata": {
    "collapsed": false
   },
   "source": [
    "LOAD PACKAGES, CLASSIFIER AND TOKENIZER MODELS"
   ]
  },
  {
   "cell_type": "code",
   "execution_count": 19,
   "id": "1b59865ced8d6e36",
   "metadata": {
    "ExecuteTime": {
     "end_time": "2024-05-17T04:30:29.990827900Z",
     "start_time": "2024-05-17T04:30:29.738394400Z"
    },
    "collapsed": false
   },
   "outputs": [],
   "source": [
    "from transformers import AutoModelForSequenceClassification, AutoTokenizer\n",
    "import torch\n",
    "import pandas as pd\n",
    "\n",
    "# Load the model and tokenizer\n",
    "model_directory = 'E:\\\\studies\\\\USJ FOT\\\\lecture\\\\Research\\\\CodeBase\\\\Classifier Model\\\\macroecon_classifier'\n",
    "tokenizer_directory = 'E:\\\\studies\\\\USJ FOT\\\\lecture\\\\Research\\\\CodeBase\\\\Classifier Model\\\\tokenizer_model'\n",
    "model = AutoModelForSequenceClassification.from_pretrained(model_directory)\n",
    "tokenizer = AutoTokenizer.from_pretrained(tokenizer_directory)"
   ]
  },
  {
   "cell_type": "code",
   "execution_count": null,
   "id": "92aeae592517b7e8",
   "metadata": {
    "collapsed": false
   },
   "outputs": [],
   "source": [
    "\n",
    "# Test the model and tokenizer to confirm they are loaded correctly\n",
    "text = \"Having run an unsustainable macroeconomic model in tandem with the longstanding deficits in the budget balance and the external current account, the economy had fully exhausted its buffers by early 2022 as it was straddled by a myriad of vulnerabilities that emanated from both global and domestic sources.\"\n",
    "encoded_input = tokenizer(text, return_tensors='pt')\n",
    "output = model(**encoded_input)\n",
    "\n",
    "# Print the output to see the model's response\n",
    "print(output)"
   ]
  },
  {
   "cell_type": "markdown",
   "id": "a99fa945129efdbf",
   "metadata": {
    "collapsed": false
   },
   "source": [
    "Predict the macroeconomic factor"
   ]
  },
  {
   "cell_type": "code",
   "execution_count": 17,
   "id": "436c8c9947816626",
   "metadata": {
    "ExecuteTime": {
     "end_time": "2024-05-17T04:28:11.358082100Z",
     "start_time": "2024-05-17T04:28:11.280744500Z"
    },
    "collapsed": false
   },
   "outputs": [
    {
     "name": "stdout",
     "output_type": "stream",
     "text": [
      "id: 1, Predicted Label: International Trade, Confidence: 0.9998\n"
     ]
    }
   ],
   "source": [
    "# Function to predict macroeconomic factors\n",
    "def predict(text):\n",
    "    # Encode the input text\n",
    "    inputs = tokenizer(text, return_tensors='pt')\n",
    "    \n",
    "    # Get logits from the model\n",
    "    with torch.no_grad():\n",
    "        output = model(**inputs)\n",
    "        logits = output.logits  # Now this should correctly reference logits\n",
    "    \n",
    "    # Apply softmax to convert logits to probabilities\n",
    "    probabilities = torch.softmax(logits, dim=-1)\n",
    "    \n",
    "    # Assuming you have a list of labels corresponding to the order of model outputs\n",
    "    labels = ['Inflation','International Trade','GDP Growth','Exchange Rates','Monetary Policy','Fiscal Policy','Unemployment']\n",
    "\n",
    "    \n",
    "    # Find the highest probability and its corresponding label\n",
    "    prediction_idx = torch.argmax(probabilities)\n",
    "    prediction_label = labels[prediction_idx]\n",
    "    \n",
    "    return prediction_label, probabilities[0, prediction_idx].item(),prediction_idx\n",
    "\n",
    "# Example usage\n",
    "text = 'The Government initiated measures in early 2022 to seek assistance from the International Monetary Fund (IMF) after months of indecisiveness.'\n",
    "\n",
    "predicted_label, confidence , index= predict(text)\n",
    "print(f\"id: {index}, Predicted Label: {predicted_label}, Confidence: {confidence:.4f}\")\n"
   ]
  },
  {
   "cell_type": "markdown",
   "id": "b3b31eb046574a35",
   "metadata": {
    "collapsed": false
   },
   "source": [
    "Predict the whole csv file"
   ]
  },
  {
   "cell_type": "code",
   "execution_count": 30,
   "id": "ca2e3597fdc709bc",
   "metadata": {
    "ExecuteTime": {
     "end_time": "2024-05-16T06:32:14.739025600Z",
     "start_time": "2024-05-16T06:31:05.031651100Z"
    },
    "collapsed": false
   },
   "outputs": [],
   "source": [
    "\n",
    "model = AutoModelForSequenceClassification.from_pretrained(model_directory)\n",
    "tokenizer = AutoTokenizer.from_pretrained(tokenizer_directory)\n",
    "\n",
    "def predict(text):\n",
    "    # Ensure text is a string\n",
    "    if pd.isna(text):\n",
    "        return \"No Text\"  # Handle NaN values by returning a default label or similar indication\n",
    "    text = str(text)  # Convert text to string in case it's not\n",
    "\n",
    "    # Encode the input text, truncate if longer than 512 tokens\n",
    "    inputs = tokenizer(text, return_tensors='pt', max_length=512, truncation=True)\n",
    "    \n",
    "    # Get logits from the model\n",
    "    with torch.no_grad():\n",
    "        output = model(**inputs)\n",
    "        logits = output.logits\n",
    "    \n",
    "    # Apply softmax to convert logits to probabilities\n",
    "    probabilities = torch.softmax(logits, dim=-1)\n",
    "    \n",
    "    # Labels corresponding to the order of model outputs\n",
    "    labels = ['Inflation', 'International Trade', 'GDP Growth', 'Exchange Rates', 'Monetary Policy', 'Fiscal Policy', 'Unemployment']\n",
    "    \n",
    "    # Find the highest probability and its corresponding label\n",
    "    prediction_idx = torch.argmax(probabilities)\n",
    "    prediction_label = labels[prediction_idx]\n",
    "    \n",
    "    return prediction_label\n",
    "\n",
    "# Load the CSV file\n",
    "df = pd.read_csv('E:\\\\studies\\\\USJ FOT\\\\lecture\\\\Research\\\\CodeBase\\\\CreatingDataset\\\\macroeconomic_classifier_dataset_4_cleaned.csv')\n",
    "\n",
    "# Apply predictions\n",
    "df['predicted_label'] = df['sentence'].apply(predict)\n",
    "\n",
    "# Save the updated DataFrame to a new CSV file\n",
    "df.to_csv('E:\\\\studies\\\\USJ FOT\\\\lecture\\\\Research\\\\CodeBase\\\\Classifier Model\\\\updated_file.csv', index=False)\n"
   ]
  },
  {
   "cell_type": "markdown",
   "source": [
    "EVALUATE MODEL PERFORMANCE"
   ],
   "metadata": {
    "collapsed": false
   },
   "id": "43c884d4c22e0bf6"
  },
  {
   "cell_type": "code",
   "execution_count": 20,
   "id": "c08ab69448ea3156",
   "metadata": {
    "ExecuteTime": {
     "end_time": "2024-05-17T04:30:45.721254100Z",
     "start_time": "2024-05-17T04:30:42.605442400Z"
    },
    "collapsed": false
   },
   "outputs": [
    {
     "name": "stdout",
     "output_type": "stream",
     "text": [
      "Requirement already satisfied: pandas in c:\\users\\dell\\appdata\\local\\programs\\python\\python311\\lib\\site-packages (2.1.4)\n",
      "Requirement already satisfied: torch in c:\\users\\dell\\appdata\\local\\programs\\python\\python311\\lib\\site-packages (2.3.0)\n",
      "Requirement already satisfied: transformers in c:\\users\\dell\\appdata\\local\\programs\\python\\python311\\lib\\site-packages (4.40.1)\n",
      "Requirement already satisfied: scikit-learn in c:\\users\\dell\\appdata\\local\\programs\\python\\python311\\lib\\site-packages (1.4.1.post1)\n",
      "Requirement already satisfied: seaborn in c:\\users\\dell\\appdata\\local\\programs\\python\\python311\\lib\\site-packages (0.13.2)\n",
      "Requirement already satisfied: matplotlib in c:\\users\\dell\\appdata\\local\\programs\\python\\python311\\lib\\site-packages (3.9.0)\n",
      "Requirement already satisfied: numpy<2,>=1.23.2 in c:\\users\\dell\\appdata\\local\\programs\\python\\python311\\lib\\site-packages (from pandas) (1.26.2)\n",
      "Requirement already satisfied: python-dateutil>=2.8.2 in c:\\users\\dell\\appdata\\local\\programs\\python\\python311\\lib\\site-packages (from pandas) (2.8.2)\n",
      "Requirement already satisfied: pytz>=2020.1 in c:\\users\\dell\\appdata\\local\\programs\\python\\python311\\lib\\site-packages (from pandas) (2023.3.post1)\n",
      "Requirement already satisfied: tzdata>=2022.1 in c:\\users\\dell\\appdata\\local\\programs\\python\\python311\\lib\\site-packages (from pandas) (2023.3)\n",
      "Requirement already satisfied: filelock in c:\\users\\dell\\appdata\\local\\programs\\python\\python311\\lib\\site-packages (from torch) (3.13.1)\n",
      "Requirement already satisfied: typing-extensions>=4.8.0 in c:\\users\\dell\\appdata\\local\\programs\\python\\python311\\lib\\site-packages (from torch) (4.9.0)\n",
      "Requirement already satisfied: sympy in c:\\users\\dell\\appdata\\local\\programs\\python\\python311\\lib\\site-packages (from torch) (1.12)\n",
      "Requirement already satisfied: networkx in c:\\users\\dell\\appdata\\local\\programs\\python\\python311\\lib\\site-packages (from torch) (3.3)\n",
      "Requirement already satisfied: jinja2 in c:\\users\\dell\\appdata\\local\\programs\\python\\python311\\lib\\site-packages (from torch) (3.1.2)\n",
      "Requirement already satisfied: fsspec in c:\\users\\dell\\appdata\\local\\programs\\python\\python311\\lib\\site-packages (from torch) (2024.3.1)\n",
      "Requirement already satisfied: mkl<=2021.4.0,>=2021.1.1 in c:\\users\\dell\\appdata\\local\\programs\\python\\python311\\lib\\site-packages (from torch) (2021.4.0)\n",
      "Requirement already satisfied: huggingface-hub<1.0,>=0.19.3 in c:\\users\\dell\\appdata\\local\\programs\\python\\python311\\lib\\site-packages (from transformers) (0.22.2)\n",
      "Requirement already satisfied: packaging>=20.0 in c:\\users\\dell\\appdata\\local\\programs\\python\\python311\\lib\\site-packages (from transformers) (23.2)\n",
      "Requirement already satisfied: pyyaml>=5.1 in c:\\users\\dell\\appdata\\local\\programs\\python\\python311\\lib\\site-packages (from transformers) (6.0.1)\n",
      "Requirement already satisfied: regex!=2019.12.17 in c:\\users\\dell\\appdata\\local\\programs\\python\\python311\\lib\\site-packages (from transformers) (2023.12.25)\n",
      "Requirement already satisfied: requests in c:\\users\\dell\\appdata\\local\\programs\\python\\python311\\lib\\site-packages (from transformers) (2.31.0)\n",
      "Requirement already satisfied: tokenizers<0.20,>=0.19 in c:\\users\\dell\\appdata\\local\\programs\\python\\python311\\lib\\site-packages (from transformers) (0.19.1)\n",
      "Requirement already satisfied: safetensors>=0.4.1 in c:\\users\\dell\\appdata\\local\\programs\\python\\python311\\lib\\site-packages (from transformers) (0.4.3)\n",
      "Requirement already satisfied: tqdm>=4.27 in c:\\users\\dell\\appdata\\local\\programs\\python\\python311\\lib\\site-packages (from transformers) (4.66.1)\n",
      "Requirement already satisfied: scipy>=1.6.0 in c:\\users\\dell\\appdata\\local\\programs\\python\\python311\\lib\\site-packages (from scikit-learn) (1.12.0)\n",
      "Requirement already satisfied: joblib>=1.2.0 in c:\\users\\dell\\appdata\\local\\programs\\python\\python311\\lib\\site-packages (from scikit-learn) (1.3.2)\n",
      "Requirement already satisfied: threadpoolctl>=2.0.0 in c:\\users\\dell\\appdata\\local\\programs\\python\\python311\\lib\\site-packages (from scikit-learn) (3.3.0)\n",
      "Requirement already satisfied: contourpy>=1.0.1 in c:\\users\\dell\\appdata\\local\\programs\\python\\python311\\lib\\site-packages (from matplotlib) (1.2.1)\n",
      "Requirement already satisfied: cycler>=0.10 in c:\\users\\dell\\appdata\\local\\programs\\python\\python311\\lib\\site-packages (from matplotlib) (0.12.1)\n",
      "Requirement already satisfied: fonttools>=4.22.0 in c:\\users\\dell\\appdata\\local\\programs\\python\\python311\\lib\\site-packages (from matplotlib) (4.51.0)\n",
      "Requirement already satisfied: kiwisolver>=1.3.1 in c:\\users\\dell\\appdata\\local\\programs\\python\\python311\\lib\\site-packages (from matplotlib) (1.4.5)\n",
      "Requirement already satisfied: pillow>=8 in c:\\users\\dell\\appdata\\local\\programs\\python\\python311\\lib\\site-packages (from matplotlib) (10.3.0)\n",
      "Requirement already satisfied: pyparsing>=2.3.1 in c:\\users\\dell\\appdata\\local\\programs\\python\\python311\\lib\\site-packages (from matplotlib) (3.1.2)\n",
      "Requirement already satisfied: intel-openmp==2021.* in c:\\users\\dell\\appdata\\local\\programs\\python\\python311\\lib\\site-packages (from mkl<=2021.4.0,>=2021.1.1->torch) (2021.4.0)\n",
      "Requirement already satisfied: tbb==2021.* in c:\\users\\dell\\appdata\\local\\programs\\python\\python311\\lib\\site-packages (from mkl<=2021.4.0,>=2021.1.1->torch) (2021.12.0)\n",
      "Requirement already satisfied: six>=1.5 in c:\\users\\dell\\appdata\\local\\programs\\python\\python311\\lib\\site-packages (from python-dateutil>=2.8.2->pandas) (1.16.0)\n",
      "Requirement already satisfied: colorama in c:\\users\\dell\\appdata\\local\\programs\\python\\python311\\lib\\site-packages (from tqdm>=4.27->transformers) (0.4.6)\n",
      "Requirement already satisfied: MarkupSafe>=2.0 in c:\\users\\dell\\appdata\\local\\programs\\python\\python311\\lib\\site-packages (from jinja2->torch) (2.1.3)\n",
      "Requirement already satisfied: charset-normalizer<4,>=2 in c:\\users\\dell\\appdata\\local\\programs\\python\\python311\\lib\\site-packages (from requests->transformers) (3.3.2)\n",
      "Requirement already satisfied: idna<4,>=2.5 in c:\\users\\dell\\appdata\\local\\programs\\python\\python311\\lib\\site-packages (from requests->transformers) (3.6)\n",
      "Requirement already satisfied: urllib3<3,>=1.21.1 in c:\\users\\dell\\appdata\\local\\programs\\python\\python311\\lib\\site-packages (from requests->transformers) (2.1.0)\n",
      "Requirement already satisfied: certifi>=2017.4.17 in c:\\users\\dell\\appdata\\local\\programs\\python\\python311\\lib\\site-packages (from requests->transformers) (2023.11.17)\n",
      "Requirement already satisfied: mpmath>=0.19 in c:\\users\\dell\\appdata\\local\\programs\\python\\python311\\lib\\site-packages (from sympy->torch) (1.3.0)\n",
      "Note: you may need to restart the kernel to use updated packages.\n"
     ]
    },
    {
     "name": "stderr",
     "output_type": "stream",
     "text": [
      "\n",
      "[notice] A new release of pip is available: 23.3.1 -> 24.0\n",
      "[notice] To update, run: python.exe -m pip install --upgrade pip\n"
     ]
    }
   ],
   "source": [
    "pip install pandas torch transformers scikit-learn seaborn matplotlib"
   ]
  },
  {
   "cell_type": "code",
   "execution_count": 33,
   "id": "cb966cad682a81c8",
   "metadata": {
    "collapsed": false,
    "ExecuteTime": {
     "end_time": "2024-05-17T04:52:02.755002100Z",
     "start_time": "2024-05-17T04:52:02.737675800Z"
    }
   },
   "outputs": [],
   "source": [
    "# Load your test dataset\n",
    "df_test = pd.read_csv('E:\\\\studies\\\\USJ FOT\\\\lecture\\\\Research\\\\CodeBase\\\\CreatingDataset\\\\macroeconomic_classifier_dataset_4_cleaned.csv')"
   ]
  },
  {
   "cell_type": "markdown",
   "source": [
    "Generate Predictions"
   ],
   "metadata": {
    "collapsed": false
   },
   "id": "9d4373453ade0096"
  },
  {
   "cell_type": "code",
   "execution_count": 36,
   "id": "171c766fe1a3b253",
   "metadata": {
    "collapsed": false,
    "ExecuteTime": {
     "end_time": "2024-05-17T04:57:00.278822900Z",
     "start_time": "2024-05-17T04:55:50.196640900Z"
    }
   },
   "outputs": [],
   "source": [
    "def predict(text):\n",
    "    if pd.isna(text) or text.strip() == \"\":\n",
    "        return None  # Return None for missing or empty texts\n",
    "    inputs = tokenizer(text, return_tensors='pt', truncation=True, max_length=512)\n",
    "    with torch.no_grad():\n",
    "        logits = model(**inputs).logits\n",
    "    return logits.argmax(-1).item()\n",
    "\n"
   ]
  },
  {
   "cell_type": "markdown",
   "source": [
    " Prepare Labels for Metrics Calculation"
   ],
   "metadata": {
    "collapsed": false
   },
   "id": "7b5e694748be5623"
  },
  {
   "cell_type": "code",
   "execution_count": 37,
   "outputs": [],
   "source": [
    "# Convert sentences in the 'sentence' column to predicted labels\n",
    "df_test['predicted_label'] = df_test['sentence'].apply(predict)\n",
    "\n",
    "# Drop rows where prediction or true labels are None\n",
    "df_test.dropna(subset=['predicted_label', 'label'], inplace=True)\n",
    "\n",
    "# Convert true labels to integers using the mapping\n",
    "label_mapping = {'Inflation': 0, 'International Trade': 1, 'GDP Growth': 2, 'Exchange Rates': 3, 'Monetary Policy': 4, 'Fiscal Policy': 5, 'Unemployment': 6}\n",
    "df_test['true_label_id'] = df_test['label'].map(label_mapping)\n",
    "\n",
    "# Convert to numpy arrays (ensure dtype is consistent)\n",
    "true_labels = df_test['true_label_id'].values.astype(int)\n",
    "predicted_labels = df_test['predicted_label'].values.astype(int)\n"
   ],
   "metadata": {
    "collapsed": false,
    "ExecuteTime": {
     "end_time": "2024-05-17T04:59:55.118357300Z",
     "start_time": "2024-05-17T04:58:45.156138100Z"
    }
   },
   "id": "811f711ab9a04e9d"
  },
  {
   "cell_type": "markdown",
   "source": [
    "Calculate and Print Metrics"
   ],
   "metadata": {
    "collapsed": false
   },
   "id": "1106cb97ae1f73ca"
  },
  {
   "cell_type": "code",
   "execution_count": 38,
   "outputs": [
    {
     "name": "stdout",
     "output_type": "stream",
     "text": [
      "Accuracy: 0.9735883424408015\n",
      "Precision: 0.949600539531023\n",
      "Recall: 0.9735883424408015\n",
      "F1 Score: 0.9610176198545826\n"
     ]
    },
    {
     "name": "stderr",
     "output_type": "stream",
     "text": [
      "C:\\Users\\DELL\\AppData\\Local\\Programs\\Python\\Python311\\Lib\\site-packages\\sklearn\\metrics\\_classification.py:1509: UndefinedMetricWarning: Precision is ill-defined and being set to 0.0 in labels with no predicted samples. Use `zero_division` parameter to control this behavior.\n",
      "  _warn_prf(average, modifier, f\"{metric.capitalize()} is\", len(result))\n"
     ]
    },
    {
     "data": {
      "text/plain": "<Figure size 1000x700 with 2 Axes>",
      "image/png": "[encoded data removed]"
     },
     "metadata": {},
     "output_type": "display_data"
    }
   ],
   "source": [
    "from sklearn.metrics import accuracy_score, precision_score, recall_score, f1_score, confusion_matrix\n",
    "import seaborn as sns\n",
    "import matplotlib.pyplot as plt\n",
    "\n",
    "# Calculate metrics\n",
    "accuracy = accuracy_score(true_labels, predicted_labels)\n",
    "precision = precision_score(true_labels, predicted_labels, average='weighted')\n",
    "recall = recall_score(true_labels, predicted_labels, average='weighted')\n",
    "f1 = f1_score(true_labels, predicted_labels, average='weighted')\n",
    "\n",
    "print(f'Accuracy: {accuracy}')\n",
    "print(f'Precision: {precision}')\n",
    "print(f'Recall: {recall}')\n",
    "print(f'F1 Score: {f1}')\n",
    "\n",
    "# Confusion Matrix\n",
    "conf_matrix = confusion_matrix(true_labels, predicted_labels)\n",
    "plt.figure(figsize=(10, 7))\n",
    "sns.heatmap(conf_matrix, annot=True, fmt='d', cmap=\"Blues\")\n",
    "plt.title('Confusion Matrix')\n",
    "plt.xlabel('Predicted Labels')\n",
    "plt.ylabel('True Labels')\n",
    "plt.show()\n"
   ],
   "metadata": {
    "collapsed": false,
    "ExecuteTime": {
     "end_time": "2024-05-17T05:01:12.707929900Z",
     "start_time": "2024-05-17T05:01:12.485291500Z"
    }
   },
   "id": "af21acd0a9633132"
  },
  {
   "cell_type": "markdown",
   "source": [],
   "metadata": {
    "collapsed": false
   },
   "id": "4030fff42f3a5a24"
  },
  {
   "cell_type": "code",
   "execution_count": null,
   "outputs": [],
   "source": [],
   "metadata": {
    "collapsed": false
   },
   "id": "e2cdbe1bd002a34f"
  }
 ],
 "metadata": {
  "kernelspec": {
   "display_name": "Python 3 (ipykernel)",
   "language": "python",
   "name": "python3"
  },
  "language_info": {
   "codemirror_mode": {
    "name": "ipython",
    "version": 3
   },
   "file_extension": ".py",
   "mimetype": "text/x-python",
   "name": "python",
   "nbconvert_exporter": "python",
   "pygments_lexer": "ipython3",
   "version": "3.11.4"
  }
 },
 "nbformat": 4,
 "nbformat_minor": 5
}
