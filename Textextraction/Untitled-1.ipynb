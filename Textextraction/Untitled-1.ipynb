{
 "cells": [
  {
   "cell_type": "code",
   "execution_count": 1,
   "metadata": {},
   "outputs": [
    {
     "name": "stdout",
     "output_type": "stream",
     "text": [
      "Collecting pypdf\n",
      "  Downloading pypdf-4.0.1-py3-none-any.whl.metadata (7.4 kB)\n",
      "Downloading pypdf-4.0.1-py3-none-any.whl (283 kB)\n",
      "   ---------------------------------------- 0.0/284.0 kB ? eta -:--:--\n",
      "   - -------------------------------------- 10.2/284.0 kB ? eta -:--:--\n",
      "   - -------------------------------------- 10.2/284.0 kB ? eta -:--:--\n",
      "   ---- ---------------------------------- 30.7/284.0 kB 262.6 kB/s eta 0:00:01\n",
      "   ---- ---------------------------------- 30.7/284.0 kB 262.6 kB/s eta 0:00:01\n",
      "   ---- ---------------------------------- 30.7/284.0 kB 262.6 kB/s eta 0:00:01\n",
      "   ---- ---------------------------------- 30.7/284.0 kB 262.6 kB/s eta 0:00:01\n",
      "   ---- ---------------------------------- 30.7/284.0 kB 262.6 kB/s eta 0:00:01\n",
      "   ---- ---------------------------------- 30.7/284.0 kB 262.6 kB/s eta 0:00:01\n",
      "   ---- ---------------------------------- 30.7/284.0 kB 262.6 kB/s eta 0:00:01\n",
      "   -------- ------------------------------ 61.4/284.0 kB 126.1 kB/s eta 0:00:02\n",
      "   ------------ -------------------------- 92.2/284.0 kB 180.8 kB/s eta 0:00:02\n",
      "   ------------ -------------------------- 92.2/284.0 kB 180.8 kB/s eta 0:00:02\n",
      "   ------------------- ------------------ 143.4/284.0 kB 250.7 kB/s eta 0:00:01\n",
      "   ------------------- ------------------ 143.4/284.0 kB 250.7 kB/s eta 0:00:01\n",
      "   -------------------- ----------------- 153.6/284.0 kB 229.4 kB/s eta 0:00:01\n",
      "   ----------------------- -------------- 174.1/284.0 kB 243.8 kB/s eta 0:00:01\n",
      "   -------------------------- ----------- 194.6/284.0 kB 262.2 kB/s eta 0:00:01\n",
      "   -------------------------- ----------- 194.6/284.0 kB 262.2 kB/s eta 0:00:01\n",
      "   --------------------------- ---------- 204.8/284.0 kB 235.0 kB/s eta 0:00:01\n",
      "   ------------------------------ ------- 225.3/284.0 kB 245.8 kB/s eta 0:00:01\n",
      "   ------------------------------- ------ 235.5/284.0 kB 244.3 kB/s eta 0:00:01\n",
      "   ------------------------------- ------ 235.5/284.0 kB 244.3 kB/s eta 0:00:01\n",
      "   ------------------------------- ------ 235.5/284.0 kB 244.3 kB/s eta 0:00:01\n",
      "   ---------------------------------- --- 256.0/284.0 kB 238.4 kB/s eta 0:00:01\n",
      "   -------------------------------------- 284.0/284.0 kB 246.6 kB/s eta 0:00:00\n",
      "Installing collected packages: pypdf\n",
      "Successfully installed pypdf-4.0.1\n",
      "Note: you may need to restart the kernel to use updated packages.\n"
     ]
    },
    {
     "name": "stderr",
     "output_type": "stream",
     "text": [
      "\n",
      "[notice] A new release of pip is available: 23.3.1 -> 24.0\n",
      "[notice] To update, run: python.exe -m pip install --upgrade pip\n"
     ]
    }
   ],
   "source": [
    "pip install pypdf"
   ]
  },
  {
   "cell_type": "code",
   "execution_count": null,
   "metadata": {},
   "outputs": [],
   "source": [
    "from pypdf import PdfReader\n"
   ]
  }
 ],
 "metadata": {
  "kernelspec": {
   "display_name": "Python 3",
   "language": "python",
   "name": "python3"
  },
  "language_info": {
   "codemirror_mode": {
    "name": "ipython",
    "version": 3
   },
   "file_extension": ".py",
   "mimetype": "text/x-python",
   "name": "python",
   "nbconvert_exporter": "python",
   "pygments_lexer": "ipython3",
   "version": "3.11.4"
  }
 },
 "nbformat": 4,
 "nbformat_minor": 2
}
